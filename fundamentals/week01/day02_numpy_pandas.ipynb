{
 "cells": [
  {
   "cell_type": "markdown",
   "id": "49e8ec05",
   "metadata": {},
   "source": [
    "# Semana 1 – Día 2: Introducción a NumPy y Pandas"
   ]
  },
  {
   "cell_type": "markdown",
   "id": "65c57479",
   "metadata": {},
   "source": [
    "**Objetivo del día**  \n",
    "1. Conocer la librería **NumPy** para manejo de arreglos numéricos.  \n",
    "2. Introducir **Pandas** para análisis y manipulación de datos tabulares.  \n",
    "3. Practicar con un dataset real (.csv) y realizar operaciones básicas.\n",
    "\n",
    "> Asegúrate de tener instaladas las librerías:  \n",
    "> ```bash\n",
    "> pip install numpy pandas\n",
    "> ```\n"
   ]
  },
  {
   "cell_type": "code",
   "execution_count": 2,
   "id": "f5841dbb",
   "metadata": {},
   "outputs": [
    {
     "name": "stdout",
     "output_type": "stream",
     "text": [
      "NumPy version: 2.3.0\n",
      "Pandas version: 2.3.0\n"
     ]
    }
   ],
   "source": [
    "import numpy as np\n",
    "import pandas as pd\n",
    "print('NumPy version:', np.__version__)\n",
    "print('Pandas version:', pd.__version__)"
   ]
  },
  {
   "cell_type": "markdown",
   "id": "b6aa4978",
   "metadata": {},
   "source": [
    "## 1. NumPy – arreglos y operaciones básicas"
   ]
  },
  {
   "cell_type": "code",
   "execution_count": 7,
   "id": "9c0523d8",
   "metadata": {},
   "outputs": [
    {
     "name": "stdout",
     "output_type": "stream",
     "text": [
      "Arreglo: [1 2 3 4 5]\n",
      "Matriz:\n",
      " [[1 2 3]\n",
      " [4 5 6]\n",
      " [7 8 9]]\n"
     ]
    }
   ],
   "source": [
    "# Crear arreglos\n",
    "arreglo = np.array([1, 2, 3, 4, 5])       # 1D\n",
    "matriz  = np.arange(1, 10).reshape(3, 3)  # 2D\n",
    "\n",
    "print('Arreglo:', arreglo)\n",
    "print('Matriz:\\n', matriz)\n"
   ]
  },
  {
   "cell_type": "code",
   "execution_count": 5,
   "id": "66eb4266",
   "metadata": {},
   "outputs": [
    {
     "name": "stdout",
     "output_type": "stream",
     "text": [
      "arreglo + 10 → [11 12 13 14 15]\n",
      "matriz * 2  →\n",
      " [[ 2  4  6]\n",
      " [ 8 10 12]\n",
      " [14 16 18]]\n"
     ]
    }
   ],
   "source": [
    "# Operaciones element‑wise\n",
    "print('arreglo + 10 →', arreglo + 10)\n",
    "print('matriz * 2  →\\n', matriz * 2)\n"
   ]
  },
  {
   "cell_type": "code",
   "execution_count": 8,
   "id": "fef9654a",
   "metadata": {},
   "outputs": [
    {
     "name": "stdout",
     "output_type": "stream",
     "text": [
      "arreglo[0]   → 1\n",
      "matriz[1, :] → [4 5 6]\n"
     ]
    }
   ],
   "source": [
    "# Indexado y slicing\n",
    "print('arreglo[0]   →', arreglo[0])\n",
    "print('matriz[1, :] →', matriz[1, :])  # segunda fila\n"
   ]
  },
  {
   "cell_type": "markdown",
   "id": "973bdf5b",
   "metadata": {},
   "source": [
    "### ✏️ Desafío 1  \n",
    "1. Crea una función `estadisticas_np(arr)` que reciba un arreglo y devuelva su media, mediana y desviación estándar.  \n",
    "2. Prueba la función con al menos dos arreglos diferentes.\n"
   ]
  },
  {
   "cell_type": "code",
   "execution_count": 9,
   "id": "789f8cc4",
   "metadata": {},
   "outputs": [],
   "source": [
    "\n",
    "\n",
    "def estadisticas_np(arr):\n",
    "    media = np.mean(arr)\n",
    "    mediana = np.median(arr)\n",
    "    desviacion = np.std(arr)\n",
    "    return media, mediana, desviacion"
   ]
  },
  {
   "cell_type": "code",
   "execution_count": 10,
   "id": "f23ce964",
   "metadata": {},
   "outputs": [
    {
     "name": "stdout",
     "output_type": "stream",
     "text": [
      "Arreglo 1: [10 20 30 40 50]\n",
      "Media: 30.0 | Mediana: 30.0 | Desviación estándar: 14.142135623730951\n",
      "\n",
      "Arreglo 2: [ 3  5  8 13 21 34]\n",
      "Media: 14.0 | Mediana: 10.5 | Desviación estándar: 10.708252269472673\n"
     ]
    }
   ],
   "source": [
    "# Arreglo 1\n",
    "arr1 = np.array([10, 20, 30, 40, 50])\n",
    "res1 = estadisticas_np(arr1)\n",
    "print(\"Arreglo 1:\", arr1)\n",
    "print(\"Media:\", res1[0], \"| Mediana:\", res1[1], \"| Desviación estándar:\", res1[2])\n",
    "print()\n",
    "\n",
    "# Arreglo 2\n",
    "arr2 = np.array([3, 5, 8, 13, 21, 34])\n",
    "res2 = estadisticas_np(arr2)\n",
    "print(\"Arreglo 2:\", arr2)\n",
    "print(\"Media:\", res2[0], \"| Mediana:\", res2[1], \"| Desviación estándar:\", res2[2])"
   ]
  },
  {
   "cell_type": "markdown",
   "id": "718847ab",
   "metadata": {},
   "source": [
    "## 2. Pandas – Series y DataFrames"
   ]
  },
  {
   "cell_type": "code",
   "execution_count": 11,
   "id": "c3ce9044",
   "metadata": {},
   "outputs": [
    {
     "data": {
      "text/plain": [
       "0    10\n",
       "1    15\n",
       "2    17\n",
       "3    21\n",
       "Name: edades, dtype: int64"
      ]
     },
     "metadata": {},
     "output_type": "display_data"
    },
    {
     "data": {
      "text/html": [
       "<div>\n",
       "<style scoped>\n",
       "    .dataframe tbody tr th:only-of-type {\n",
       "        vertical-align: middle;\n",
       "    }\n",
       "\n",
       "    .dataframe tbody tr th {\n",
       "        vertical-align: top;\n",
       "    }\n",
       "\n",
       "    .dataframe thead th {\n",
       "        text-align: right;\n",
       "    }\n",
       "</style>\n",
       "<table border=\"1\" class=\"dataframe\">\n",
       "  <thead>\n",
       "    <tr style=\"text-align: right;\">\n",
       "      <th></th>\n",
       "      <th>nombre</th>\n",
       "      <th>edad</th>\n",
       "      <th>ciudad</th>\n",
       "    </tr>\n",
       "  </thead>\n",
       "  <tbody>\n",
       "    <tr>\n",
       "      <th>0</th>\n",
       "      <td>Ana</td>\n",
       "      <td>23</td>\n",
       "      <td>MTY</td>\n",
       "    </tr>\n",
       "    <tr>\n",
       "      <th>1</th>\n",
       "      <td>Luis</td>\n",
       "      <td>21</td>\n",
       "      <td>CDMX</td>\n",
       "    </tr>\n",
       "    <tr>\n",
       "      <th>2</th>\n",
       "      <td>Sofía</td>\n",
       "      <td>19</td>\n",
       "      <td>GDL</td>\n",
       "    </tr>\n",
       "    <tr>\n",
       "      <th>3</th>\n",
       "      <td>Pedro</td>\n",
       "      <td>24</td>\n",
       "      <td>MTY</td>\n",
       "    </tr>\n",
       "  </tbody>\n",
       "</table>\n",
       "</div>"
      ],
      "text/plain": [
       "  nombre  edad ciudad\n",
       "0    Ana    23    MTY\n",
       "1   Luis    21   CDMX\n",
       "2  Sofía    19    GDL\n",
       "3  Pedro    24    MTY"
      ]
     },
     "metadata": {},
     "output_type": "display_data"
    }
   ],
   "source": [
    "# Creamos una Serie y un DataFrame simples\n",
    "serie = pd.Series([10, 15, 17, 21], name='edades')\n",
    "df = pd.DataFrame({'nombre': ['Ana', 'Luis', 'Sofía', 'Pedro'],\n",
    "                   'edad':   [23, 21, 19, 24],\n",
    "                   'ciudad': ['MTY', 'CDMX', 'GDL', 'MTY']})\n",
    "\n",
    "display(serie)\n",
    "display(df)\n"
   ]
  },
  {
   "cell_type": "code",
   "execution_count": 13,
   "id": "b26450fa",
   "metadata": {},
   "outputs": [
    {
     "name": "stdout",
     "output_type": "stream",
     "text": [
      "Promedio de edad: 21.75\n",
      "\n",
      "Conteo por ciudad:\n",
      "ciudad\n",
      "MTY     2\n",
      "CDMX    1\n",
      "GDL     1\n",
      "Name: count, dtype: int64\n"
     ]
    }
   ],
   "source": [
    "# Calculamos operaciones comunes en un DataFrame llamado 'df'\n",
    "\n",
    "# Imprimir el promedio de la columna 'edad'\n",
    "print('Promedio de edad:', df['edad'].mean())\n",
    "\n",
    "# Imprimir un salto de línea y el título del segundo análisis\n",
    "print('\\nConteo por ciudad:')\n",
    "\n",
    "# Contar cuántas veces aparece cada ciudad en la columna 'ciudad'\n",
    "print(df['ciudad'].value_counts())"
   ]
  },
  {
   "cell_type": "markdown",
   "id": "18699ab1",
   "metadata": {},
   "source": [
    "### 2.1 Cargar un dataset desde CSV\n",
    "\n",
    "Descarga (o coloca) un archivo llamado **`ventas.csv`** en la misma carpeta.  \n",
    "Elige un dataset pequeño con columnas como `producto, precio, cantidad, categoria`.\n"
   ]
  },
  {
   "cell_type": "code",
   "execution_count": 14,
   "id": "4c517488",
   "metadata": {},
   "outputs": [
    {
     "data": {
      "text/html": [
       "<div>\n",
       "<style scoped>\n",
       "    .dataframe tbody tr th:only-of-type {\n",
       "        vertical-align: middle;\n",
       "    }\n",
       "\n",
       "    .dataframe tbody tr th {\n",
       "        vertical-align: top;\n",
       "    }\n",
       "\n",
       "    .dataframe thead th {\n",
       "        text-align: right;\n",
       "    }\n",
       "</style>\n",
       "<table border=\"1\" class=\"dataframe\">\n",
       "  <thead>\n",
       "    <tr style=\"text-align: right;\">\n",
       "      <th></th>\n",
       "      <th>producto</th>\n",
       "      <th>precio</th>\n",
       "      <th>cantidad</th>\n",
       "      <th>categoria</th>\n",
       "    </tr>\n",
       "  </thead>\n",
       "  <tbody>\n",
       "    <tr>\n",
       "      <th>0</th>\n",
       "      <td>Laptop</td>\n",
       "      <td>15000</td>\n",
       "      <td>2</td>\n",
       "      <td>Tecnología</td>\n",
       "    </tr>\n",
       "    <tr>\n",
       "      <th>1</th>\n",
       "      <td>Mouse</td>\n",
       "      <td>300</td>\n",
       "      <td>5</td>\n",
       "      <td>Accesorios</td>\n",
       "    </tr>\n",
       "    <tr>\n",
       "      <th>2</th>\n",
       "      <td>Teclado</td>\n",
       "      <td>700</td>\n",
       "      <td>3</td>\n",
       "      <td>Accesorios</td>\n",
       "    </tr>\n",
       "    <tr>\n",
       "      <th>3</th>\n",
       "      <td>Monitor</td>\n",
       "      <td>5000</td>\n",
       "      <td>1</td>\n",
       "      <td>Tecnología</td>\n",
       "    </tr>\n",
       "    <tr>\n",
       "      <th>4</th>\n",
       "      <td>Audífonos</td>\n",
       "      <td>1200</td>\n",
       "      <td>4</td>\n",
       "      <td>Audio</td>\n",
       "    </tr>\n",
       "  </tbody>\n",
       "</table>\n",
       "</div>"
      ],
      "text/plain": [
       "    producto  precio  cantidad   categoria\n",
       "0     Laptop   15000         2  Tecnología\n",
       "1      Mouse     300         5  Accesorios\n",
       "2    Teclado     700         3  Accesorios\n",
       "3    Monitor    5000         1  Tecnología\n",
       "4  Audífonos    1200         4       Audio"
      ]
     },
     "metadata": {},
     "output_type": "display_data"
    }
   ],
   "source": [
    "# Cargar el archivo CSV (descomenta y actualiza la ruta si es necesario)\n",
    "# ventas = pd.read_csv('ventas.csv')\n",
    "# display(ventas.head())\n",
    "import pandas as pd\n",
    "\n",
    "# Cargar el archivo CSV\n",
    "ventas = pd.read_csv('ventas.csv')\n",
    "\n",
    "# Mostrar las primeras filas del DataFrame\n",
    "display(ventas.head())"
   ]
  },
  {
   "cell_type": "markdown",
   "id": "c788946c",
   "metadata": {},
   "source": [
    "### ✏️ Desafío 2  \n",
    "Con el DataFrame `ventas`:\n",
    "1. Calcula el ingreso total (`precio * cantidad`) por fila y agrégalo como una nueva columna.  \n",
    "2. Filtra las filas donde la `cantidad` sea mayor o igual a 10.  \n",
    "3. Agrupa por `categoria` y muestra la suma de ingresos por cada categoría.\n"
   ]
  },
  {
   "cell_type": "code",
   "execution_count": 36,
   "id": "868aeba2",
   "metadata": {},
   "outputs": [
    {
     "data": {
      "text/html": [
       "<div>\n",
       "<style scoped>\n",
       "    .dataframe tbody tr th:only-of-type {\n",
       "        vertical-align: middle;\n",
       "    }\n",
       "\n",
       "    .dataframe tbody tr th {\n",
       "        vertical-align: top;\n",
       "    }\n",
       "\n",
       "    .dataframe thead th {\n",
       "        text-align: right;\n",
       "    }\n",
       "</style>\n",
       "<table border=\"1\" class=\"dataframe\">\n",
       "  <thead>\n",
       "    <tr style=\"text-align: right;\">\n",
       "      <th></th>\n",
       "      <th>producto</th>\n",
       "      <th>precio</th>\n",
       "      <th>cantidad</th>\n",
       "      <th>categoria</th>\n",
       "      <th>ingreso</th>\n",
       "    </tr>\n",
       "  </thead>\n",
       "  <tbody>\n",
       "    <tr>\n",
       "      <th>0</th>\n",
       "      <td>Laptop</td>\n",
       "      <td>15000</td>\n",
       "      <td>2</td>\n",
       "      <td>Tecnología</td>\n",
       "      <td>30000</td>\n",
       "    </tr>\n",
       "    <tr>\n",
       "      <th>1</th>\n",
       "      <td>Mouse</td>\n",
       "      <td>300</td>\n",
       "      <td>5</td>\n",
       "      <td>Accesorios</td>\n",
       "      <td>1500</td>\n",
       "    </tr>\n",
       "    <tr>\n",
       "      <th>2</th>\n",
       "      <td>Teclado</td>\n",
       "      <td>700</td>\n",
       "      <td>3</td>\n",
       "      <td>Accesorios</td>\n",
       "      <td>2100</td>\n",
       "    </tr>\n",
       "    <tr>\n",
       "      <th>3</th>\n",
       "      <td>Monitor</td>\n",
       "      <td>5000</td>\n",
       "      <td>1</td>\n",
       "      <td>Tecnología</td>\n",
       "      <td>5000</td>\n",
       "    </tr>\n",
       "    <tr>\n",
       "      <th>4</th>\n",
       "      <td>Audífonos</td>\n",
       "      <td>1200</td>\n",
       "      <td>4</td>\n",
       "      <td>Audio</td>\n",
       "      <td>4800</td>\n",
       "    </tr>\n",
       "    <tr>\n",
       "      <th>5</th>\n",
       "      <td>Silla Gamer</td>\n",
       "      <td>4500</td>\n",
       "      <td>2</td>\n",
       "      <td>Muebles</td>\n",
       "      <td>9000</td>\n",
       "    </tr>\n",
       "  </tbody>\n",
       "</table>\n",
       "</div>"
      ],
      "text/plain": [
       "      producto  precio  cantidad   categoria  ingreso\n",
       "0       Laptop   15000         2  Tecnología    30000\n",
       "1        Mouse     300         5  Accesorios     1500\n",
       "2      Teclado     700         3  Accesorios     2100\n",
       "3      Monitor    5000         1  Tecnología     5000\n",
       "4    Audífonos    1200         4       Audio     4800\n",
       "5  Silla Gamer    4500         2     Muebles     9000"
      ]
     },
     "metadata": {},
     "output_type": "display_data"
    },
    {
     "name": "stdout",
     "output_type": "stream",
     "text": [
      "\n",
      "Ingresos por categoría:\n",
      "categoria\n",
      "Accesorios     3600\n",
      "Audio          4800\n",
      "Muebles        9000\n",
      "Tecnología    35000\n",
      "Name: ingreso, dtype: int64\n"
     ]
    }
   ],
   "source": [
    "import pandas as pd\n",
    "from IPython.display import display\n",
    "\n",
    "# Cargar archivo CSV\n",
    "ventas = pd.read_csv('ventas.csv')\n",
    "\n",
    "# 1. Calcular ingreso por fila\n",
    "ventas['ingreso'] = ventas['precio'] * ventas['cantidad']\n",
    "\n",
    "# 2. Filtrar donde cantidad >= 10\n",
    "ventas_mayor_10 = ventas[ventas['cantidad'] >= 1]\n",
    "display(ventas_mayor_10)\n",
    "\n",
    "# 3. Agrupar por categoría y sumar ingresos\n",
    "ingresos_por_categoria = ventas.groupby('categoria')['ingreso'].sum()\n",
    "print('\\nIngresos por categoría:')\n",
    "print(ingresos_por_categoria)"
   ]
  },
  {
   "cell_type": "markdown",
   "id": "125f13c6",
   "metadata": {},
   "source": [
    "## 🚀 Desafío Opcional  \n",
    "Usa Matplotlib (o el método `.plot()` de Pandas) para graficar la cantidad total vendida por categoría.  \n",
    "> No te preocupes por estilos o colores específicos por ahora.\n"
   ]
  },
  {
   "cell_type": "code",
   "execution_count": 39,
   "id": "811b7d4a",
   "metadata": {},
   "outputs": [
    {
     "data": {
      "image/png": "[encoded data removed]",
      "text/plain": [
       "<Figure size 640x480 with 1 Axes>"
      ]
     },
     "metadata": {},
     "output_type": "display_data"
    }
   ],
   "source": [
    "import pandas as pd\n",
    "import matplotlib.pyplot as plt\n",
    "\n",
    "# Cargar archivo CSV\n",
    "ventas = pd.read_csv('ventas.csv')\n",
    "\n",
    "# Agrupar por categoría y sumar la cantidad vendida\n",
    "cantidad_por_categoria = ventas.groupby('categoria')['cantidad'].sum()\n",
    "\n",
    "# Graficar usando Pandas (que internamente usa Matplotlib)\n",
    "cantidad_por_categoria.plot(kind='bar')\n",
    "\n",
    "# Opcional: mejorar la gráfica con títulos\n",
    "plt.title('Cantidad total vendida por categoría')\n",
    "plt.xlabel('Categoría')\n",
    "plt.ylabel('Cantidad vendida')\n",
    "\n",
    "# Mostrar la gráfica\n",
    "plt.tight_layout()\n",
    "plt.show()"
   ]
  },
  {
   "cell_type": "markdown",
   "id": "085a543f",
   "metadata": {},
   "source": [
    "---\n",
    "**¡Buen trabajo!** Cuando termines, guarda el notebook y súbelo a tu repositorio en:\n",
    "```\n",
    "fundamentals/week01/day02_numpy_pandas.ipynb\n",
    "```"
   ]
  }
 ],
 "metadata": {
  "kernelspec": {
   "display_name": ".venv312",
   "language": "python",
   "name": "python3"
  },
  "language_info": {
   "codemirror_mode": {
    "name": "ipython",
    "version": 3
   },
   "file_extension": ".py",
   "mimetype": "text/x-python",
   "name": "python",
   "nbconvert_exporter": "python",
   "pygments_lexer": "ipython3",
   "version": "3.12.3"
  }
 },
 "nbformat": 4,
 "nbformat_minor": 5
}
