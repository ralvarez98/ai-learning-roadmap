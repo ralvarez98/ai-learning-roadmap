{
 "cells": [
  {
   "cell_type": "markdown",
   "id": "49e8ec05",
   "metadata": {},
   "source": [
    "# Semana 1 – Día 2: Introducción a NumPy y Pandas"
   ]
  },
  {
   "cell_type": "markdown",
   "id": "65c57479",
   "metadata": {},
   "source": [
    "**Objetivo del día**  \n",
    "1. Conocer la librería **NumPy** para manejo de arreglos numéricos.  \n",
    "2. Introducir **Pandas** para análisis y manipulación de datos tabulares.  \n",
    "3. Practicar con un dataset real (.csv) y realizar operaciones básicas.\n",
    "\n",
    "> Asegúrate de tener instaladas las librerías:  \n",
    "> ```bash\n",
    "> pip install numpy pandas\n",
    "> ```\n"
   ]
  },
  {
   "cell_type": "code",
   "execution_count": 2,
   "id": "f5841dbb",
   "metadata": {},
   "outputs": [
    {
     "name": "stdout",
     "output_type": "stream",
     "text": [
      "NumPy version: 2.3.0\n",
      "Pandas version: 2.3.0\n"
     ]
    }
   ],
   "source": [
    "import numpy as np\n",
    "import pandas as pd\n",
    "print('NumPy version:', np.__version__)\n",
    "print('Pandas version:', pd.__version__)"
   ]
  },
  {
   "cell_type": "markdown",
   "id": "b6aa4978",
   "metadata": {},
   "source": [
    "## 1. NumPy – arreglos y operaciones básicas"
   ]
  },
  {
   "cell_type": "code",
   "execution_count": 7,
   "id": "9c0523d8",
   "metadata": {},
   "outputs": [
    {
     "name": "stdout",
     "output_type": "stream",
     "text": [
      "Arreglo: [1 2 3 4 5]\n",
      "Matriz:\n",
      " [[1 2 3]\n",
      " [4 5 6]\n",
      " [7 8 9]]\n"
     ]
    }
   ],
   "source": [
    "# Crear arreglos\n",
    "arreglo = np.array([1, 2, 3, 4, 5])       # 1D\n",
    "matriz  = np.arange(1, 10).reshape(3, 3)  # 2D\n",
    "\n",
    "print('Arreglo:', arreglo)\n",
    "print('Matriz:\\n', matriz)\n"
   ]
  },
  {
   "cell_type": "code",
   "execution_count": 5,
   "id": "66eb4266",
   "metadata": {},
   "outputs": [
    {
     "name": "stdout",
     "output_type": "stream",
     "text": [
      "arreglo + 10 → [11 12 13 14 15]\n",
      "matriz * 2  →\n",
      " [[ 2  4  6]\n",
      " [ 8 10 12]\n",
      " [14 16 18]]\n"
     ]
    }
   ],
   "source": [
    "# Operaciones element‑wise\n",
    "print('arreglo + 10 →', arreglo + 10)\n",
    "print('matriz * 2  →\\n', matriz * 2)\n"
   ]
  },
  {
   "cell_type": "code",
   "execution_count": 8,
   "id": "fef9654a",
   "metadata": {},
   "outputs": [
    {
     "name": "stdout",
     "output_type": "stream",
     "text": [
      "arreglo[0]   → 1\n",
      "matriz[1, :] → [4 5 6]\n"
     ]
    }
   ],
   "source": [
    "# Indexado y slicing\n",
    "print('arreglo[0]   →', arreglo[0])\n",
    "print('matriz[1, :] →', matriz[1, :])  # segunda fila\n"
   ]
  },
  {
   "cell_type": "markdown",
   "id": "973bdf5b",
   "metadata": {},
   "source": [
    "### ✏️ Desafío 1  \n",
    "1. Crea una función `estadisticas_np(arr)` que reciba un arreglo y devuelva su media, mediana y desviación estándar.  \n",
    "2. Prueba la función con al menos dos arreglos diferentes.\n"
   ]
  },
  {
   "cell_type": "code",
   "execution_count": 51,
   "id": "789f8cc4",
   "metadata": {},
   "outputs": [],
   "source": [
    "\n",
    "\n",
    "def estadisticas_np(arr):\n",
    "    media = np.mean(arr)\n",
    "    mediana = np.median(arr)\n",
    "    desviacion = np.std(arr)\n",
    "    return media, mediana, desviacion"
   ]
  },
  {
   "cell_type": "code",
   "execution_count": 10,
   "id": "f23ce964",
   "metadata": {},
   "outputs": [
    {
     "name": "stdout",
     "output_type": "stream",
     "text": [
      "Arreglo 1: [10 20 30 40 50]\n",
      "Media: 30.0 | Mediana: 30.0 | Desviación estándar: 14.142135623730951\n",
      "\n",
      "Arreglo 2: [ 3  5  8 13 21 34]\n",
      "Media: 14.0 | Mediana: 10.5 | Desviación estándar: 10.708252269472673\n"
     ]
    }
   ],
   "source": [
    "# Arreglo 1\n",
    "arr1 = np.array([10, 20, 30, 40, 50])\n",
    "res1 = estadisticas_np(arr1)\n",
    "print(\"Arreglo 1:\", arr1)\n",
    "print(\"Media:\", res1[0], \"| Mediana:\", res1[1], \"| Desviación estándar:\", res1[2])\n",
    "print()\n",
    "\n",
    "# Arreglo 2\n",
    "arr2 = np.array([3, 5, 8, 13, 21, 34])\n",
    "res2 = estadisticas_np(arr2)\n",
    "print(\"Arreglo 2:\", arr2)\n",
    "print(\"Media:\", res2[0], \"| Mediana:\", res2[1], \"| Desviación estándar:\", res2[2])"
   ]
  },
  {
   "cell_type": "markdown",
   "id": "718847ab",
   "metadata": {},
   "source": [
    "## 2. Pandas – Series y DataFrames"
   ]
  },
  {
   "cell_type": "code",
   "execution_count": 40,
   "id": "c3ce9044",
   "metadata": {},
   "outputs": [
    {
     "data": {
      "text/plain": [
       "0    10\n",
       "1    15\n",
       "2    17\n",
       "3    21\n",
       "Name: edades, dtype: int64"
      ]
     },
     "metadata": {},
     "output_type": "display_data"
    },
    {
     "data": {
      "text/html": [
       "<div>\n",
       "<style scoped>\n",
       "    .dataframe tbody tr th:only-of-type {\n",
       "        vertical-align: middle;\n",
       "    }\n",
       "\n",
       "    .dataframe tbody tr th {\n",
       "        vertical-align: top;\n",
       "    }\n",
       "\n",
       "    .dataframe thead th {\n",
       "        text-align: right;\n",
       "    }\n",
       "</style>\n",
       "<table border=\"1\" class=\"dataframe\">\n",
       "  <thead>\n",
       "    <tr style=\"text-align: right;\">\n",
       "      <th></th>\n",
       "      <th>nombre</th>\n",
       "      <th>edad</th>\n",
       "      <th>ciudad</th>\n",
       "    </tr>\n",
       "  </thead>\n",
       "  <tbody>\n",
       "    <tr>\n",
       "      <th>0</th>\n",
       "      <td>Ana</td>\n",
       "      <td>23</td>\n",
       "      <td>MTY</td>\n",
       "    </tr>\n",
       "    <tr>\n",
       "      <th>1</th>\n",
       "      <td>Luis</td>\n",
       "      <td>21</td>\n",
       "      <td>CDMX</td>\n",
       "    </tr>\n",
       "    <tr>\n",
       "      <th>2</th>\n",
       "      <td>Sofía</td>\n",
       "      <td>19</td>\n",
       "      <td>GDL</td>\n",
       "    </tr>\n",
       "    <tr>\n",
       "      <th>3</th>\n",
       "      <td>Pedro</td>\n",
       "      <td>24</td>\n",
       "      <td>MTY</td>\n",
       "    </tr>\n",
       "  </tbody>\n",
       "</table>\n",
       "</div>"
      ],
      "text/plain": [
       "  nombre  edad ciudad\n",
       "0    Ana    23    MTY\n",
       "1   Luis    21   CDMX\n",
       "2  Sofía    19    GDL\n",
       "3  Pedro    24    MTY"
      ]
     },
     "metadata": {},
     "output_type": "display_data"
    }
   ],
   "source": [
    "# Creamos una Serie y un DataFrame simples\n",
    "serie = pd.Series([10, 15, 17, 21], name='edades')\n",
    "df = pd.DataFrame({'nombre': ['Ana', 'Luis', 'Sofía', 'Pedro'],\n",
    "                   'edad':   [23, 21, 19, 24],\n",
    "                   'ciudad': ['MTY', 'CDMX', 'GDL', 'MTY']})\n",
    "\n",
    "display(serie)\n",
    "display(df)\n"
   ]
  },
  {
   "cell_type": "code",
   "execution_count": 41,
   "id": "b26450fa",
   "metadata": {},
   "outputs": [
    {
     "name": "stdout",
     "output_type": "stream",
     "text": [
      "Promedio de edad: 21.75\n",
      "\n",
      "Conteo por ciudad:\n",
      "ciudad\n",
      "MTY     2\n",
      "CDMX    1\n",
      "GDL     1\n",
      "Name: count, dtype: int64\n"
     ]
    }
   ],
   "source": [
    "# Calculamos operaciones comunes en un DataFrame llamado 'df'\n",
    "\n",
    "# Imprimir el promedio de la columna 'edad'\n",
    "print('Promedio de edad:', df['edad'].mean())\n",
    "\n",
    "# Imprimir un salto de línea y el título del segundo análisis\n",
    "print('\\nConteo por ciudad:')\n",
    "\n",
    "# Contar cuántas veces aparece cada ciudad en la columna 'ciudad'\n",
    "print(df['ciudad'].value_counts())"
   ]
  },
  {
   "cell_type": "markdown",
   "id": "18699ab1",
   "metadata": {},
   "source": [
    "### 2.1 Cargar un dataset desde CSV\n",
    "\n",
    "Descarga (o coloca) un archivo llamado **`ventas.csv`** en la misma carpeta.  \n",
    "Elige un dataset pequeño con columnas como `producto, precio, cantidad, categoria`.\n"
   ]
  },
  {
   "cell_type": "code",
   "execution_count": 43,
   "id": "4c517488",
   "metadata": {},
   "outputs": [
    {
     "data": {
      "text/html": [
       "<div>\n",
       "<style scoped>\n",
       "    .dataframe tbody tr th:only-of-type {\n",
       "        vertical-align: middle;\n",
       "    }\n",
       "\n",
       "    .dataframe tbody tr th {\n",
       "        vertical-align: top;\n",
       "    }\n",
       "\n",
       "    .dataframe thead th {\n",
       "        text-align: right;\n",
       "    }\n",
       "</style>\n",
       "<table border=\"1\" class=\"dataframe\">\n",
       "  <thead>\n",
       "    <tr style=\"text-align: right;\">\n",
       "      <th></th>\n",
       "      <th>producto</th>\n",
       "      <th>precio</th>\n",
       "      <th>cantidad</th>\n",
       "      <th>categoria</th>\n",
       "    </tr>\n",
       "  </thead>\n",
       "  <tbody>\n",
       "    <tr>\n",
       "      <th>0</th>\n",
       "      <td>Laptop</td>\n",
       "      <td>15000</td>\n",
       "      <td>2</td>\n",
       "      <td>Tecnología</td>\n",
       "    </tr>\n",
       "    <tr>\n",
       "      <th>1</th>\n",
       "      <td>Mouse</td>\n",
       "      <td>300</td>\n",
       "      <td>5</td>\n",
       "      <td>Accesorios</td>\n",
       "    </tr>\n",
       "    <tr>\n",
       "      <th>2</th>\n",
       "      <td>Teclado</td>\n",
       "      <td>700</td>\n",
       "      <td>3</td>\n",
       "      <td>Accesorios</td>\n",
       "    </tr>\n",
       "    <tr>\n",
       "      <th>3</th>\n",
       "      <td>Monitor</td>\n",
       "      <td>5000</td>\n",
       "      <td>1</td>\n",
       "      <td>Tecnología</td>\n",
       "    </tr>\n",
       "    <tr>\n",
       "      <th>4</th>\n",
       "      <td>Audífonos</td>\n",
       "      <td>1200</td>\n",
       "      <td>4</td>\n",
       "      <td>Audio</td>\n",
       "    </tr>\n",
       "  </tbody>\n",
       "</table>\n",
       "</div>"
      ],
      "text/plain": [
       "    producto  precio  cantidad   categoria\n",
       "0     Laptop   15000         2  Tecnología\n",
       "1      Mouse     300         5  Accesorios\n",
       "2    Teclado     700         3  Accesorios\n",
       "3    Monitor    5000         1  Tecnología\n",
       "4  Audífonos    1200         4       Audio"
      ]
     },
     "metadata": {},
     "output_type": "display_data"
    }
   ],
   "source": [
    "# Cargar el archivo CSV (descomenta y actualiza la ruta si es necesario)\n",
    "# ventas = pd.read_csv('ventas.csv')\n",
    "# display(ventas.head())\n",
    "import pandas as pd\n",
    "\n",
    "# Cargar el archivo CSV\n",
    "ventas = pd.read_csv('ventas.csv')\n",
    "\n",
    "# Mostrar las primeras filas del DataFrame\n",
    "display(ventas.head())"
   ]
  },
  {
   "cell_type": "markdown",
   "id": "c788946c",
   "metadata": {},
   "source": [
    "### ✏️ Desafío 2  \n",
    "Con el DataFrame `ventas`:\n",
    "1. Calcula el ingreso total (`precio * cantidad`) por fila y agrégalo como una nueva columna.  \n",
    "2. Filtra las filas donde la `cantidad` sea mayor o igual a 10.  \n",
    "3. Agrupa por `categoria` y muestra la suma de ingresos por cada categoría.\n"
   ]
  },
  {
   "cell_type": "code",
   "execution_count": 46,
   "id": "868aeba2",
   "metadata": {},
   "outputs": [
    {
     "data": {
      "text/html": [
       "<div>\n",
       "<style scoped>\n",
       "    .dataframe tbody tr th:only-of-type {\n",
       "        vertical-align: middle;\n",
       "    }\n",
       "\n",
       "    .dataframe tbody tr th {\n",
       "        vertical-align: top;\n",
       "    }\n",
       "\n",
       "    .dataframe thead th {\n",
       "        text-align: right;\n",
       "    }\n",
       "</style>\n",
       "<table border=\"1\" class=\"dataframe\">\n",
       "  <thead>\n",
       "    <tr style=\"text-align: right;\">\n",
       "      <th></th>\n",
       "      <th>producto</th>\n",
       "      <th>precio</th>\n",
       "      <th>cantidad</th>\n",
       "      <th>categoria</th>\n",
       "      <th>ingreso</th>\n",
       "    </tr>\n",
       "  </thead>\n",
       "  <tbody>\n",
       "    <tr>\n",
       "      <th>0</th>\n",
       "      <td>Laptop</td>\n",
       "      <td>15000</td>\n",
       "      <td>2</td>\n",
       "      <td>Tecnología</td>\n",
       "      <td>30000</td>\n",
       "    </tr>\n",
       "    <tr>\n",
       "      <th>1</th>\n",
       "      <td>Mouse</td>\n",
       "      <td>300</td>\n",
       "      <td>5</td>\n",
       "      <td>Accesorios</td>\n",
       "      <td>1500</td>\n",
       "    </tr>\n",
       "    <tr>\n",
       "      <th>2</th>\n",
       "      <td>Teclado</td>\n",
       "      <td>700</td>\n",
       "      <td>3</td>\n",
       "      <td>Accesorios</td>\n",
       "      <td>2100</td>\n",
       "    </tr>\n",
       "    <tr>\n",
       "      <th>3</th>\n",
       "      <td>Monitor</td>\n",
       "      <td>5000</td>\n",
       "      <td>1</td>\n",
       "      <td>Tecnología</td>\n",
       "      <td>5000</td>\n",
       "    </tr>\n",
       "    <tr>\n",
       "      <th>4</th>\n",
       "      <td>Audífonos</td>\n",
       "      <td>1200</td>\n",
       "      <td>4</td>\n",
       "      <td>Audio</td>\n",
       "      <td>4800</td>\n",
       "    </tr>\n",
       "    <tr>\n",
       "      <th>5</th>\n",
       "      <td>Silla Gamer</td>\n",
       "      <td>4500</td>\n",
       "      <td>2</td>\n",
       "      <td>Muebles</td>\n",
       "      <td>9000</td>\n",
       "    </tr>\n",
       "  </tbody>\n",
       "</table>\n",
       "</div>"
      ],
      "text/plain": [
       "      producto  precio  cantidad   categoria  ingreso\n",
       "0       Laptop   15000         2  Tecnología    30000\n",
       "1        Mouse     300         5  Accesorios     1500\n",
       "2      Teclado     700         3  Accesorios     2100\n",
       "3      Monitor    5000         1  Tecnología     5000\n",
       "4    Audífonos    1200         4       Audio     4800\n",
       "5  Silla Gamer    4500         2     Muebles     9000"
      ]
     },
     "metadata": {},
     "output_type": "display_data"
    },
    {
     "name": "stdout",
     "output_type": "stream",
     "text": [
      "\n",
      "Ingresos por categoría:\n",
      "categoria\n",
      "Accesorios     3600\n",
      "Audio          4800\n",
      "Muebles        9000\n",
      "Tecnología    35000\n",
      "Name: ingreso, dtype: int64\n"
     ]
    }
   ],
   "source": [
    "import pandas as pd\n",
    "from IPython.display import display\n",
    "\n",
    "# Cargar archivo CSV\n",
    "ventas = pd.read_csv('ventas.csv')\n",
    "\n",
    "# 1. Calcular ingreso por fila\n",
    "ventas['ingreso'] = ventas['precio'] * ventas['cantidad']\n",
    "\n",
    "# 2. Filtrar donde cantidad >= 10\n",
    "ventas_mayor_10 = ventas[ventas['cantidad'] >= 1]\n",
    "display(ventas_mayor_10)\n",
    "\n",
    "# 3. Agrupar por categoría y sumar ingresos\n",
    "ingresos_por_categoria = ventas.groupby('categoria')['ingreso'].sum()\n",
    "print('\\nIngresos por categoría:')\n",
    "print(ingresos_por_categoria)"
   ]
  },
  {
   "cell_type": "markdown",
   "id": "125f13c6",
   "metadata": {},
   "source": [
    "## 🚀 Desafío Opcional  \n",
    "Usa Matplotlib (o el método `.plot()` de Pandas) para graficar la cantidad total vendida por categoría.  \n",
    "> No te preocupes por estilos o colores específicos por ahora.\n"
   ]
  },
  {
   "cell_type": "code",
   "execution_count": 1,
   "id": "811b7d4a",
   "metadata": {},
   "outputs": [
    {
     "ename": "FileNotFoundError",
     "evalue": "[Errno 2] No such file or directory: 'ventas.csv'",
     "output_type": "error",
     "traceback": [
      "\u001b[31m---------------------------------------------------------------------------\u001b[39m",
      "\u001b[31mFileNotFoundError\u001b[39m                         Traceback (most recent call last)",
      "\u001b[36mCell\u001b[39m\u001b[36m \u001b[39m\u001b[32mIn[1]\u001b[39m\u001b[32m, line 5\u001b[39m\n\u001b[32m      2\u001b[39m \u001b[38;5;28;01mimport\u001b[39;00m\u001b[38;5;250m \u001b[39m\u001b[34;01mmatplotlib\u001b[39;00m\u001b[34;01m.\u001b[39;00m\u001b[34;01mpyplot\u001b[39;00m\u001b[38;5;250m \u001b[39m\u001b[38;5;28;01mas\u001b[39;00m\u001b[38;5;250m \u001b[39m\u001b[34;01mplt\u001b[39;00m\n\u001b[32m      4\u001b[39m \u001b[38;5;66;03m# Cargar archivo CSV\u001b[39;00m\n\u001b[32m----> \u001b[39m\u001b[32m5\u001b[39m ventas = \u001b[43mpd\u001b[49m\u001b[43m.\u001b[49m\u001b[43mread_csv\u001b[49m\u001b[43m(\u001b[49m\u001b[33;43m'\u001b[39;49m\u001b[33;43mventas.csv\u001b[39;49m\u001b[33;43m'\u001b[39;49m\u001b[43m)\u001b[49m\n\u001b[32m      7\u001b[39m \u001b[38;5;66;03m# Agrupar por categoría y sumar la cantidad vendida\u001b[39;00m\n\u001b[32m      8\u001b[39m cantidad_por_categoria = ventas.groupby(\u001b[33m'\u001b[39m\u001b[33mcategoria\u001b[39m\u001b[33m'\u001b[39m)[\u001b[33m'\u001b[39m\u001b[33mcantidad\u001b[39m\u001b[33m'\u001b[39m].sum()\n",
      "\u001b[36mFile \u001b[39m\u001b[32mc:\\Users\\mxalvaro\\Desktop\\IA\\.venv312\\Lib\\site-packages\\pandas\\io\\parsers\\readers.py:1026\u001b[39m, in \u001b[36mread_csv\u001b[39m\u001b[34m(filepath_or_buffer, sep, delimiter, header, names, index_col, usecols, dtype, engine, converters, true_values, false_values, skipinitialspace, skiprows, skipfooter, nrows, na_values, keep_default_na, na_filter, verbose, skip_blank_lines, parse_dates, infer_datetime_format, keep_date_col, date_parser, date_format, dayfirst, cache_dates, iterator, chunksize, compression, thousands, decimal, lineterminator, quotechar, quoting, doublequote, escapechar, comment, encoding, encoding_errors, dialect, on_bad_lines, delim_whitespace, low_memory, memory_map, float_precision, storage_options, dtype_backend)\u001b[39m\n\u001b[32m   1013\u001b[39m kwds_defaults = _refine_defaults_read(\n\u001b[32m   1014\u001b[39m     dialect,\n\u001b[32m   1015\u001b[39m     delimiter,\n\u001b[32m   (...)\u001b[39m\u001b[32m   1022\u001b[39m     dtype_backend=dtype_backend,\n\u001b[32m   1023\u001b[39m )\n\u001b[32m   1024\u001b[39m kwds.update(kwds_defaults)\n\u001b[32m-> \u001b[39m\u001b[32m1026\u001b[39m \u001b[38;5;28;01mreturn\u001b[39;00m \u001b[43m_read\u001b[49m\u001b[43m(\u001b[49m\u001b[43mfilepath_or_buffer\u001b[49m\u001b[43m,\u001b[49m\u001b[43m \u001b[49m\u001b[43mkwds\u001b[49m\u001b[43m)\u001b[49m\n",
      "\u001b[36mFile \u001b[39m\u001b[32mc:\\Users\\mxalvaro\\Desktop\\IA\\.venv312\\Lib\\site-packages\\pandas\\io\\parsers\\readers.py:620\u001b[39m, in \u001b[36m_read\u001b[39m\u001b[34m(filepath_or_buffer, kwds)\u001b[39m\n\u001b[32m    617\u001b[39m _validate_names(kwds.get(\u001b[33m\"\u001b[39m\u001b[33mnames\u001b[39m\u001b[33m\"\u001b[39m, \u001b[38;5;28;01mNone\u001b[39;00m))\n\u001b[32m    619\u001b[39m \u001b[38;5;66;03m# Create the parser.\u001b[39;00m\n\u001b[32m--> \u001b[39m\u001b[32m620\u001b[39m parser = \u001b[43mTextFileReader\u001b[49m\u001b[43m(\u001b[49m\u001b[43mfilepath_or_buffer\u001b[49m\u001b[43m,\u001b[49m\u001b[43m \u001b[49m\u001b[43m*\u001b[49m\u001b[43m*\u001b[49m\u001b[43mkwds\u001b[49m\u001b[43m)\u001b[49m\n\u001b[32m    622\u001b[39m \u001b[38;5;28;01mif\u001b[39;00m chunksize \u001b[38;5;129;01mor\u001b[39;00m iterator:\n\u001b[32m    623\u001b[39m     \u001b[38;5;28;01mreturn\u001b[39;00m parser\n",
      "\u001b[36mFile \u001b[39m\u001b[32mc:\\Users\\mxalvaro\\Desktop\\IA\\.venv312\\Lib\\site-packages\\pandas\\io\\parsers\\readers.py:1620\u001b[39m, in \u001b[36mTextFileReader.__init__\u001b[39m\u001b[34m(self, f, engine, **kwds)\u001b[39m\n\u001b[32m   1617\u001b[39m     \u001b[38;5;28mself\u001b[39m.options[\u001b[33m\"\u001b[39m\u001b[33mhas_index_names\u001b[39m\u001b[33m\"\u001b[39m] = kwds[\u001b[33m\"\u001b[39m\u001b[33mhas_index_names\u001b[39m\u001b[33m\"\u001b[39m]\n\u001b[32m   1619\u001b[39m \u001b[38;5;28mself\u001b[39m.handles: IOHandles | \u001b[38;5;28;01mNone\u001b[39;00m = \u001b[38;5;28;01mNone\u001b[39;00m\n\u001b[32m-> \u001b[39m\u001b[32m1620\u001b[39m \u001b[38;5;28mself\u001b[39m._engine = \u001b[38;5;28;43mself\u001b[39;49m\u001b[43m.\u001b[49m\u001b[43m_make_engine\u001b[49m\u001b[43m(\u001b[49m\u001b[43mf\u001b[49m\u001b[43m,\u001b[49m\u001b[43m \u001b[49m\u001b[38;5;28;43mself\u001b[39;49m\u001b[43m.\u001b[49m\u001b[43mengine\u001b[49m\u001b[43m)\u001b[49m\n",
      "\u001b[36mFile \u001b[39m\u001b[32mc:\\Users\\mxalvaro\\Desktop\\IA\\.venv312\\Lib\\site-packages\\pandas\\io\\parsers\\readers.py:1880\u001b[39m, in \u001b[36mTextFileReader._make_engine\u001b[39m\u001b[34m(self, f, engine)\u001b[39m\n\u001b[32m   1878\u001b[39m     \u001b[38;5;28;01mif\u001b[39;00m \u001b[33m\"\u001b[39m\u001b[33mb\u001b[39m\u001b[33m\"\u001b[39m \u001b[38;5;129;01mnot\u001b[39;00m \u001b[38;5;129;01min\u001b[39;00m mode:\n\u001b[32m   1879\u001b[39m         mode += \u001b[33m\"\u001b[39m\u001b[33mb\u001b[39m\u001b[33m\"\u001b[39m\n\u001b[32m-> \u001b[39m\u001b[32m1880\u001b[39m \u001b[38;5;28mself\u001b[39m.handles = \u001b[43mget_handle\u001b[49m\u001b[43m(\u001b[49m\n\u001b[32m   1881\u001b[39m \u001b[43m    \u001b[49m\u001b[43mf\u001b[49m\u001b[43m,\u001b[49m\n\u001b[32m   1882\u001b[39m \u001b[43m    \u001b[49m\u001b[43mmode\u001b[49m\u001b[43m,\u001b[49m\n\u001b[32m   1883\u001b[39m \u001b[43m    \u001b[49m\u001b[43mencoding\u001b[49m\u001b[43m=\u001b[49m\u001b[38;5;28;43mself\u001b[39;49m\u001b[43m.\u001b[49m\u001b[43moptions\u001b[49m\u001b[43m.\u001b[49m\u001b[43mget\u001b[49m\u001b[43m(\u001b[49m\u001b[33;43m\"\u001b[39;49m\u001b[33;43mencoding\u001b[39;49m\u001b[33;43m\"\u001b[39;49m\u001b[43m,\u001b[49m\u001b[43m \u001b[49m\u001b[38;5;28;43;01mNone\u001b[39;49;00m\u001b[43m)\u001b[49m\u001b[43m,\u001b[49m\n\u001b[32m   1884\u001b[39m \u001b[43m    \u001b[49m\u001b[43mcompression\u001b[49m\u001b[43m=\u001b[49m\u001b[38;5;28;43mself\u001b[39;49m\u001b[43m.\u001b[49m\u001b[43moptions\u001b[49m\u001b[43m.\u001b[49m\u001b[43mget\u001b[49m\u001b[43m(\u001b[49m\u001b[33;43m\"\u001b[39;49m\u001b[33;43mcompression\u001b[39;49m\u001b[33;43m\"\u001b[39;49m\u001b[43m,\u001b[49m\u001b[43m \u001b[49m\u001b[38;5;28;43;01mNone\u001b[39;49;00m\u001b[43m)\u001b[49m\u001b[43m,\u001b[49m\n\u001b[32m   1885\u001b[39m \u001b[43m    \u001b[49m\u001b[43mmemory_map\u001b[49m\u001b[43m=\u001b[49m\u001b[38;5;28;43mself\u001b[39;49m\u001b[43m.\u001b[49m\u001b[43moptions\u001b[49m\u001b[43m.\u001b[49m\u001b[43mget\u001b[49m\u001b[43m(\u001b[49m\u001b[33;43m\"\u001b[39;49m\u001b[33;43mmemory_map\u001b[39;49m\u001b[33;43m\"\u001b[39;49m\u001b[43m,\u001b[49m\u001b[43m \u001b[49m\u001b[38;5;28;43;01mFalse\u001b[39;49;00m\u001b[43m)\u001b[49m\u001b[43m,\u001b[49m\n\u001b[32m   1886\u001b[39m \u001b[43m    \u001b[49m\u001b[43mis_text\u001b[49m\u001b[43m=\u001b[49m\u001b[43mis_text\u001b[49m\u001b[43m,\u001b[49m\n\u001b[32m   1887\u001b[39m \u001b[43m    \u001b[49m\u001b[43merrors\u001b[49m\u001b[43m=\u001b[49m\u001b[38;5;28;43mself\u001b[39;49m\u001b[43m.\u001b[49m\u001b[43moptions\u001b[49m\u001b[43m.\u001b[49m\u001b[43mget\u001b[49m\u001b[43m(\u001b[49m\u001b[33;43m\"\u001b[39;49m\u001b[33;43mencoding_errors\u001b[39;49m\u001b[33;43m\"\u001b[39;49m\u001b[43m,\u001b[49m\u001b[43m \u001b[49m\u001b[33;43m\"\u001b[39;49m\u001b[33;43mstrict\u001b[39;49m\u001b[33;43m\"\u001b[39;49m\u001b[43m)\u001b[49m\u001b[43m,\u001b[49m\n\u001b[32m   1888\u001b[39m \u001b[43m    \u001b[49m\u001b[43mstorage_options\u001b[49m\u001b[43m=\u001b[49m\u001b[38;5;28;43mself\u001b[39;49m\u001b[43m.\u001b[49m\u001b[43moptions\u001b[49m\u001b[43m.\u001b[49m\u001b[43mget\u001b[49m\u001b[43m(\u001b[49m\u001b[33;43m\"\u001b[39;49m\u001b[33;43mstorage_options\u001b[39;49m\u001b[33;43m\"\u001b[39;49m\u001b[43m,\u001b[49m\u001b[43m \u001b[49m\u001b[38;5;28;43;01mNone\u001b[39;49;00m\u001b[43m)\u001b[49m\u001b[43m,\u001b[49m\n\u001b[32m   1889\u001b[39m \u001b[43m\u001b[49m\u001b[43m)\u001b[49m\n\u001b[32m   1890\u001b[39m \u001b[38;5;28;01massert\u001b[39;00m \u001b[38;5;28mself\u001b[39m.handles \u001b[38;5;129;01mis\u001b[39;00m \u001b[38;5;129;01mnot\u001b[39;00m \u001b[38;5;28;01mNone\u001b[39;00m\n\u001b[32m   1891\u001b[39m f = \u001b[38;5;28mself\u001b[39m.handles.handle\n",
      "\u001b[36mFile \u001b[39m\u001b[32mc:\\Users\\mxalvaro\\Desktop\\IA\\.venv312\\Lib\\site-packages\\pandas\\io\\common.py:873\u001b[39m, in \u001b[36mget_handle\u001b[39m\u001b[34m(path_or_buf, mode, encoding, compression, memory_map, is_text, errors, storage_options)\u001b[39m\n\u001b[32m    868\u001b[39m \u001b[38;5;28;01melif\u001b[39;00m \u001b[38;5;28misinstance\u001b[39m(handle, \u001b[38;5;28mstr\u001b[39m):\n\u001b[32m    869\u001b[39m     \u001b[38;5;66;03m# Check whether the filename is to be opened in binary mode.\u001b[39;00m\n\u001b[32m    870\u001b[39m     \u001b[38;5;66;03m# Binary mode does not support 'encoding' and 'newline'.\u001b[39;00m\n\u001b[32m    871\u001b[39m     \u001b[38;5;28;01mif\u001b[39;00m ioargs.encoding \u001b[38;5;129;01mand\u001b[39;00m \u001b[33m\"\u001b[39m\u001b[33mb\u001b[39m\u001b[33m\"\u001b[39m \u001b[38;5;129;01mnot\u001b[39;00m \u001b[38;5;129;01min\u001b[39;00m ioargs.mode:\n\u001b[32m    872\u001b[39m         \u001b[38;5;66;03m# Encoding\u001b[39;00m\n\u001b[32m--> \u001b[39m\u001b[32m873\u001b[39m         handle = \u001b[38;5;28;43mopen\u001b[39;49m\u001b[43m(\u001b[49m\n\u001b[32m    874\u001b[39m \u001b[43m            \u001b[49m\u001b[43mhandle\u001b[49m\u001b[43m,\u001b[49m\n\u001b[32m    875\u001b[39m \u001b[43m            \u001b[49m\u001b[43mioargs\u001b[49m\u001b[43m.\u001b[49m\u001b[43mmode\u001b[49m\u001b[43m,\u001b[49m\n\u001b[32m    876\u001b[39m \u001b[43m            \u001b[49m\u001b[43mencoding\u001b[49m\u001b[43m=\u001b[49m\u001b[43mioargs\u001b[49m\u001b[43m.\u001b[49m\u001b[43mencoding\u001b[49m\u001b[43m,\u001b[49m\n\u001b[32m    877\u001b[39m \u001b[43m            \u001b[49m\u001b[43merrors\u001b[49m\u001b[43m=\u001b[49m\u001b[43merrors\u001b[49m\u001b[43m,\u001b[49m\n\u001b[32m    878\u001b[39m \u001b[43m            \u001b[49m\u001b[43mnewline\u001b[49m\u001b[43m=\u001b[49m\u001b[33;43m\"\u001b[39;49m\u001b[33;43m\"\u001b[39;49m\u001b[43m,\u001b[49m\n\u001b[32m    879\u001b[39m \u001b[43m        \u001b[49m\u001b[43m)\u001b[49m\n\u001b[32m    880\u001b[39m     \u001b[38;5;28;01melse\u001b[39;00m:\n\u001b[32m    881\u001b[39m         \u001b[38;5;66;03m# Binary mode\u001b[39;00m\n\u001b[32m    882\u001b[39m         handle = \u001b[38;5;28mopen\u001b[39m(handle, ioargs.mode)\n",
      "\u001b[31mFileNotFoundError\u001b[39m: [Errno 2] No such file or directory: 'ventas.csv'"
     ]
    }
   ],
   "source": [
    "import pandas as pd\n",
    "import matplotlib.pyplot as plt\n",
    "\n",
    "# Cargar archivo CSV\n",
    "ventas = pd.read_csv('ventas.csv')\n",
    "\n",
    "# Agrupar por categoría y sumar la cantidad vendida\n",
    "cantidad_por_categoria = ventas.groupby('categoria')['cantidad'].sum()\n",
    "\n",
    "# Graficar usando Pandas (que internamente usa Matplotlib)\n",
    "cantidad_por_categoria.plot(kind='bar')\n",
    "\n",
    "# Opcional: mejorar la gráfica con títulos\n",
    "plt.title('Cantidad total vendida por categoría')\n",
    "plt.xlabel('Categoría')\n",
    "plt.ylabel('Cantidad vendida')\n",
    "\n",
    "# Mostrar la gráfica\n",
    "plt.tight_layout()\n",
    "plt.show()"
   ]
  },
  {
   "cell_type": "markdown",
   "id": "085a543f",
   "metadata": {},
   "source": [
    "---\n",
    "**¡Buen trabajo!** Cuando termines, guarda el notebook y súbelo a tu repositorio en:\n",
    "```\n",
    "fundamentals/week01/day02_numpy_pandas.ipynb\n",
    "```"
   ]
  }
 ],
 "metadata": {
  "kernelspec": {
   "display_name": ".venv312",
   "language": "python",
   "name": "python3"
  },
  "language_info": {
   "codemirror_mode": {
    "name": "ipython",
    "version": 3
   },
   "file_extension": ".py",
   "mimetype": "text/x-python",
   "name": "python",
   "nbconvert_exporter": "python",
   "pygments_lexer": "ipython3",
   "version": "3.12.3"
  }
 },
 "nbformat": 4,
 "nbformat_minor": 5
}
