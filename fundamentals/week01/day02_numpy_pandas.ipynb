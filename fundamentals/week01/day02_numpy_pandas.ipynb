{
 "cells": [
  {
   "cell_type": "markdown",
   "id": "49e8ec05",
   "metadata": {},
   "source": [
    "# Semana 1 – Día 2: Introducción a NumPy y Pandas"
   ]
  },
  {
   "cell_type": "markdown",
   "id": "65c57479",
   "metadata": {},
   "source": [
    "**Objetivo del día**  \n",
    "1. Conocer la librería **NumPy** para manejo de arreglos numéricos.  \n",
    "2. Introducir **Pandas** para análisis y manipulación de datos tabulares.  \n",
    "3. Practicar con un dataset real (.csv) y realizar operaciones básicas.\n",
    "\n",
    "> Asegúrate de tener instaladas las librerías:  \n",
    "> ```bash\n",
    "> pip install numpy pandas\n",
    "> ```\n"
   ]
  },
  {
   "cell_type": "code",
   "execution_count": 1,
   "id": "f5841dbb",
   "metadata": {},
   "outputs": [
    {
     "name": "stdout",
     "output_type": "stream",
     "text": [
      "NumPy version: 2.3.0\n",
      "Pandas version: 2.3.0\n"
     ]
    }
   ],
   "source": [
    "import numpy as np\n",
    "import pandas as pd\n",
    "print('NumPy version:', np.__version__)\n",
    "print('Pandas version:', pd.__version__)"
   ]
  },
  {
   "cell_type": "markdown",
   "id": "b6aa4978",
   "metadata": {},
   "source": [
    "## 1. NumPy – arreglos y operaciones básicas"
   ]
  },
  {
   "cell_type": "code",
   "execution_count": null,
   "id": "9c0523d8",
   "metadata": {},
   "outputs": [],
   "source": [
    "# Crear arreglos\n",
    "arreglo = np.array([1, 2, 3, 4, 5])       # 1D\n",
    "matriz  = np.arange(1, 10).reshape(3, 3)  # 2D\n",
    "\n",
    "print('Arreglo:', arreglo)\n",
    "print('Matriz:\\n', matriz)\n"
   ]
  },
  {
   "cell_type": "code",
   "execution_count": null,
   "id": "66eb4266",
   "metadata": {},
   "outputs": [],
   "source": [
    "# Operaciones element‑wise\n",
    "print('arreglo + 10 →', arreglo + 10)\n",
    "print('matriz * 2  →\\n', matriz * 2)\n"
   ]
  },
  {
   "cell_type": "code",
   "execution_count": null,
   "id": "fef9654a",
   "metadata": {},
   "outputs": [],
   "source": [
    "# Indexado y slicing\n",
    "print('arreglo[0]   →', arreglo[0])\n",
    "print('matriz[1, :] →', matriz[1, :])  # segunda fila\n"
   ]
  },
  {
   "cell_type": "markdown",
   "id": "973bdf5b",
   "metadata": {},
   "source": [
    "### ✏️ Desafío 1  \n",
    "1. Crea una función `estadisticas_np(arr)` que reciba un arreglo y devuelva su media, mediana y desviación estándar.  \n",
    "2. Prueba la función con al menos dos arreglos diferentes.\n"
   ]
  },
  {
   "cell_type": "markdown",
   "id": "718847ab",
   "metadata": {},
   "source": [
    "## 2. Pandas – Series y DataFrames"
   ]
  },
  {
   "cell_type": "code",
   "execution_count": null,
   "id": "c3ce9044",
   "metadata": {},
   "outputs": [],
   "source": [
    "# Creamos una Serie y un DataFrame simples\n",
    "serie = pd.Series([10, 15, 17, 21], name='edades')\n",
    "df = pd.DataFrame({'nombre': ['Ana', 'Luis', 'Sofía', 'Pedro'],\n",
    "                   'edad':   [23, 21, 19, 24],\n",
    "                   'ciudad': ['MTY', 'CDMX', 'GDL', 'MTY']})\n",
    "\n",
    "display(serie)\n",
    "display(df)\n"
   ]
  },
  {
   "cell_type": "code",
   "execution_count": null,
   "id": "b26450fa",
   "metadata": {},
   "outputs": [],
   "source": [
    "# Operaciones comunes\n",
    "print('Promedio de edad:', df['edad'].mean())\n",
    "print('\\nConteo por ciudad:')\n",
    "print(df['ciudad'].value_counts())\n"
   ]
  },
  {
   "cell_type": "markdown",
   "id": "18699ab1",
   "metadata": {},
   "source": [
    "### 2.1 Cargar un dataset desde CSV\n",
    "\n",
    "Descarga (o coloca) un archivo llamado **`ventas.csv`** en la misma carpeta.  \n",
    "Elige un dataset pequeño con columnas como `producto, precio, cantidad, categoria`.\n"
   ]
  },
  {
   "cell_type": "code",
   "execution_count": null,
   "id": "4c517488",
   "metadata": {},
   "outputs": [],
   "source": [
    "# Cargar el archivo CSV (descomenta y actualiza la ruta si es necesario)\n",
    "# ventas = pd.read_csv('ventas.csv')\n",
    "# display(ventas.head())\n"
   ]
  },
  {
   "cell_type": "markdown",
   "id": "c788946c",
   "metadata": {},
   "source": [
    "### ✏️ Desafío 2  \n",
    "Con el DataFrame `ventas`:\n",
    "1. Calcula el ingreso total (`precio * cantidad`) por fila y agrégalo como una nueva columna.  \n",
    "2. Filtra las filas donde la `cantidad` sea mayor o igual a 10.  \n",
    "3. Agrupa por `categoria` y muestra la suma de ingresos por cada categoría.\n"
   ]
  },
  {
   "cell_type": "markdown",
   "id": "125f13c6",
   "metadata": {},
   "source": [
    "## 🚀 Desafío Opcional  \n",
    "Usa Matplotlib (o el método `.plot()` de Pandas) para graficar la cantidad total vendida por categoría.  \n",
    "> No te preocupes por estilos o colores específicos por ahora.\n"
   ]
  },
  {
   "cell_type": "markdown",
   "id": "085a543f",
   "metadata": {},
   "source": [
    "---\n",
    "**¡Buen trabajo!** Cuando termines, guarda el notebook y súbelo a tu repositorio en:\n",
    "```\n",
    "fundamentals/week01/day02_numpy_pandas.ipynb\n",
    "```"
   ]
  }
 ],
 "metadata": {
  "kernelspec": {
   "display_name": ".venv312",
   "language": "python",
   "name": "python3"
  },
  "language_info": {
   "codemirror_mode": {
    "name": "ipython",
    "version": 3
   },
   "file_extension": ".py",
   "mimetype": "text/x-python",
   "name": "python",
   "nbconvert_exporter": "python",
   "pygments_lexer": "ipython3",
   "version": "3.12.3"
  }
 },
 "nbformat": 4,
 "nbformat_minor": 5
}
