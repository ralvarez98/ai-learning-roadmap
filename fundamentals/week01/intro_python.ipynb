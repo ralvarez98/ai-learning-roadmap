{
 "cells": [
  {
   "cell_type": "markdown",
   "id": "8766aa7c",
   "metadata": {},
   "source": [
    "# Semana 1 - Día 1: Fundamentos de Python"
   ]
  },
  {
   "cell_type": "markdown",
   "id": "ee03f087",
   "metadata": {},
   "source": [
    "En este notebook aprenderás los fundamentos de Python necesarios para avanzar en tu carrera como desarrollador en IA."
   ]
  },
  {
   "cell_type": "markdown",
   "id": "095cb8e3",
   "metadata": {},
   "source": [
    "## 1. Variables y tipos de datos"
   ]
  },
  {
   "cell_type": "code",
   "execution_count": 1,
   "id": "45683d29",
   "metadata": {},
   "outputs": [
    {
     "name": "stdout",
     "output_type": "stream",
     "text": [
      "Mi nombre es Romario, tengo 29 años y mido 1.75 metros.\n"
     ]
    }
   ],
   "source": [
    "nombre = 'Romario'\n",
    "edad = 29\n",
    "altura = 1.75\n",
    "print(f'Mi nombre es {nombre}, tengo {edad} años y mido {altura} metros.')"
   ]
  },
  {
   "cell_type": "markdown",
   "id": "857aa5ea",
   "metadata": {},
   "source": [
    "## 2. Operaciones básicas"
   ]
  },
  {
   "cell_type": "code",
   "execution_count": 2,
   "id": "bc3d5003",
   "metadata": {},
   "outputs": [
    {
     "name": "stdout",
     "output_type": "stream",
     "text": [
      "Suma: 13\n",
      "División: 3.3333333333333335\n",
      "Potencia: 1000\n"
     ]
    }
   ],
   "source": [
    "a = 10\n",
    "b = 3\n",
    "print('Suma:', a + b)\n",
    "print('División:', a / b)\n",
    "print('Potencia:', a ** b)"
   ]
  },
  {
   "cell_type": "markdown",
   "id": "80b9e3d9",
   "metadata": {},
   "source": [
    "## 3. Listas y diccionarios"
   ]
  },
  {
   "cell_type": "code",
   "execution_count": 4,
   "id": "4f6cbcb9",
   "metadata": {},
   "outputs": [
    {
     "name": "stdout",
     "output_type": "stream",
     "text": [
      "['manzana', 'plátano', 'pera']\n",
      "10\n"
     ]
    }
   ],
   "source": [
    "frutas = ['manzana', 'plátano', 'pera']\n",
    "precios = {'manzana': 12, 'plátano': 8, 'pera': 10}\n",
    "print(frutas)\n",
    "print(precios['pera'])"
   ]
  },
  {
   "cell_type": "markdown",
   "id": "34e8b031",
   "metadata": {},
   "source": [
    "## 4. Condicionales"
   ]
  },
  {
   "cell_type": "code",
   "execution_count": 5,
   "id": "0daf57da",
   "metadata": {},
   "outputs": [
    {
     "name": "stdout",
     "output_type": "stream",
     "text": [
      "Eres mayor de edad\n"
     ]
    }
   ],
   "source": [
    "edad = 20\n",
    "if edad >= 18:\n",
    "    print('Eres mayor de edad')\n",
    "else:\n",
    "    print('Eres menor de edad')"
   ]
  },
  {
   "cell_type": "markdown",
   "id": "2f9a0163",
   "metadata": {},
   "source": [
    "## 5. Bucles"
   ]
  },
  {
   "cell_type": "code",
   "execution_count": 6,
   "id": "10c10f69",
   "metadata": {},
   "outputs": [
    {
     "name": "stdout",
     "output_type": "stream",
     "text": [
      "Me gusta la manzana\n",
      "Me gusta la plátano\n",
      "Me gusta la pera\n"
     ]
    }
   ],
   "source": [
    "for fruta in frutas:\n",
    "    print('Me gusta la', fruta)"
   ]
  },
  {
   "cell_type": "markdown",
   "id": "a834a071",
   "metadata": {},
   "source": [
    "## 6. Funciones"
   ]
  },
  {
   "cell_type": "code",
   "execution_count": 7,
   "id": "061577af",
   "metadata": {},
   "outputs": [
    {
     "name": "stdout",
     "output_type": "stream",
     "text": [
      "Hola, Romario!\n"
     ]
    }
   ],
   "source": [
    "def saludar(nombre):\n",
    "    return f'Hola, {nombre}!'\n",
    "\n",
    "print(saludar('Romario'))"
   ]
  },
  {
   "cell_type": "code",
   "execution_count": 8,
   "id": "e84dbcbc",
   "metadata": {},
   "outputs": [
    {
     "name": "stdout",
     "output_type": "stream",
     "text": [
      "El promedio es: 25.0\n"
     ]
    }
   ],
   "source": [
    "def promedio(lista_numeros):\n",
    "    \"\"\"\n",
    "    Recibe una lista de números y devuelve su promedio.\n",
    "    \"\"\"\n",
    "    if len(lista_numeros) == 0:\n",
    "        return 0  # Evita división entre cero\n",
    "    return sum(lista_numeros) / len(lista_numeros)\n",
    "\n",
    "# Ejemplo de uso\n",
    "mis_numeros = [10, 20, 30, 40]\n",
    "print(\"El promedio es:\", promedio(mis_numeros))"
   ]
  },
  {
   "cell_type": "code",
   "execution_count": null,
   "id": "1fe6a057",
   "metadata": {},
   "outputs": [],
   "source": []
  },
  {
   "cell_type": "code",
   "execution_count": 9,
   "id": "18f367ac",
   "metadata": {},
   "outputs": [
    {
     "name": "stdout",
     "output_type": "stream",
     "text": [
      "1 es impar\n",
      "2 es par\n",
      "3 es impar\n",
      "4 es par\n",
      "5 es impar\n",
      "6 es par\n",
      "7 es impar\n",
      "8 es par\n",
      "9 es impar\n",
      "10 es par\n"
     ]
    }
   ],
   "source": [
    "# Bucle del 1 al 10\n",
    "for numero in range(1, 11):        # range(1, 11) genera los números 1,2,…,10\n",
    "    if numero % 2 == 0:            # Si el residuo de dividir entre 2 es 0 → par\n",
    "        print(f\"{numero} es par\")\n",
    "    else:                          # En cualquier otro caso → impar\n",
    "        print(f\"{numero} es impar\")"
   ]
  },
  {
   "cell_type": "markdown",
   "id": "a0d07a48",
   "metadata": {},
   "source": [
    "✅ **Desafío del día:**\n",
    "\n",
    "1. Crea una función que reciba una lista de números y devuelva su promedio.\n",
    "2. Escribe un bucle que cuente de 1 a 10 e imprima si el número es par o impar."
   ]
  },
  {
   "cell_type": "code",
   "execution_count": 2,
   "id": "b8e9ba9f",
   "metadata": {},
   "outputs": [
    {
     "name": "stdout",
     "output_type": "stream",
     "text": [
      "[2, 4, 6]\n"
     ]
    }
   ],
   "source": [
    "def pares_en_lista(lista_nums):\n",
    "    \"\"\"\n",
    "    Devuelve una lista con los números pares encontrados\n",
    "    en 'lista_nums'.\n",
    "    \"\"\"\n",
    "    pares = []\n",
    "    for n in lista_nums:\n",
    "        if n % 2 == 0:\n",
    "            pares.append(n)\n",
    "    return pares\n",
    "\n",
    "# Prueba rápida\n",
    "print(pares_en_lista([1, 2, 3, 4, 5, 6]))\n"
   ]
  },
  {
   "cell_type": "code",
   "execution_count": 3,
   "id": "f89aa4e9",
   "metadata": {},
   "outputs": [
    {
     "name": "stdout",
     "output_type": "stream",
     "text": [
      "a: 3\n",
      "e: 1\n",
      "i: 1\n",
      "o: 2\n",
      "u: 0\n",
      "Total: 7 vocales\n"
     ]
    }
   ],
   "source": [
    "frase = \"Romario Alvarez\"  # Puedes cambiar la frase\n",
    "\n",
    "# Creamos un diccionario de vocales con valores en 0\n",
    "vocales = {v: 0 for v in \"aeiou\"}\n",
    "\n",
    "# Recorremos cada letra de la frase en minúsculas\n",
    "for char in frase.lower():\n",
    "    if char in vocales:\n",
    "        vocales[char] += 1  # Sumamos 1 al contador de esa vocal\n",
    "\n",
    "# Calculamos la suma total de todas las vocales\n",
    "total = sum(vocales.values())\n",
    "\n",
    "# Mostramos el resultado\n",
    "for v, c in vocales.items():\n",
    "    print(f\"{v}: {c}\")\n",
    "print(f\"Total: {total} vocales\")"
   ]
  }
 ],
 "metadata": {
  "kernelspec": {
   "display_name": "Python 3",
   "name": "python3"
  },
  "language_info": {
   "codemirror_mode": {
    "name": "ipython",
    "version": 3
   },
   "file_extension": ".py",
   "mimetype": "text/x-python",
   "name": "python",
   "nbconvert_exporter": "python",
   "pygments_lexer": "ipython3",
   "version": "3.13.1"
  }
 },
 "nbformat": 4,
 "nbformat_minor": 5
}
