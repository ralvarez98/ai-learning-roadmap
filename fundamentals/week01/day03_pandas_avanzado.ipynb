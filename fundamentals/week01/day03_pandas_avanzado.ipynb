{
 "cells": [
  {
   "cell_type": "markdown",
   "metadata": {},
   "source": [
    "# 🧠 Día 3 – Manipulación Avanzada con Pandas\n",
    "Este notebook cubre técnicas avanzadas para manipular y limpiar datos usando Pandas. Es fundamental para poder trabajar con datasets reales.\n"
   ]
  },
  {
   "cell_type": "code",
   "execution_count": 4,
   "metadata": {},
   "outputs": [],
   "source": [
    "import pandas as pd\n",
    "import numpy as np"
   ]
  },
  {
   "cell_type": "markdown",
   "metadata": {},
   "source": [
    "## 📥 Cargar dataset de ejemplo\n",
    "Puedes usar tu archivo `ventas.csv` u otro dataset similar. Simularemos uno si no tienes otro."
   ]
  },
  {
   "cell_type": "code",
   "execution_count": 7,
   "metadata": {},
   "outputs": [
    {
     "data": {
      "text/html": [
       "<div>\n",
       "<style scoped>\n",
       "    .dataframe tbody tr th:only-of-type {\n",
       "        vertical-align: middle;\n",
       "    }\n",
       "\n",
       "    .dataframe tbody tr th {\n",
       "        vertical-align: top;\n",
       "    }\n",
       "\n",
       "    .dataframe thead th {\n",
       "        text-align: right;\n",
       "    }\n",
       "</style>\n",
       "<table border=\"1\" class=\"dataframe\">\n",
       "  <thead>\n",
       "    <tr style=\"text-align: right;\">\n",
       "      <th></th>\n",
       "      <th>producto</th>\n",
       "      <th>precio</th>\n",
       "      <th>cantidad</th>\n",
       "      <th>categoria</th>\n",
       "    </tr>\n",
       "  </thead>\n",
       "  <tbody>\n",
       "    <tr>\n",
       "      <th>0</th>\n",
       "      <td>A</td>\n",
       "      <td>100.0</td>\n",
       "      <td>5.0</td>\n",
       "      <td>x</td>\n",
       "    </tr>\n",
       "    <tr>\n",
       "      <th>1</th>\n",
       "      <td>B</td>\n",
       "      <td>150.0</td>\n",
       "      <td>10.0</td>\n",
       "      <td>y</td>\n",
       "    </tr>\n",
       "    <tr>\n",
       "      <th>2</th>\n",
       "      <td>C</td>\n",
       "      <td>200.0</td>\n",
       "      <td>3.0</td>\n",
       "      <td>x</td>\n",
       "    </tr>\n",
       "    <tr>\n",
       "      <th>3</th>\n",
       "      <td>A</td>\n",
       "      <td>120.0</td>\n",
       "      <td>NaN</td>\n",
       "      <td>y</td>\n",
       "    </tr>\n",
       "    <tr>\n",
       "      <th>4</th>\n",
       "      <td>C</td>\n",
       "      <td>180.0</td>\n",
       "      <td>8.0</td>\n",
       "      <td>x</td>\n",
       "    </tr>\n",
       "    <tr>\n",
       "      <th>5</th>\n",
       "      <td>B</td>\n",
       "      <td>NaN</td>\n",
       "      <td>2.0</td>\n",
       "      <td>y</td>\n",
       "    </tr>\n",
       "    <tr>\n",
       "      <th>6</th>\n",
       "      <td>A</td>\n",
       "      <td>130.0</td>\n",
       "      <td>6.0</td>\n",
       "      <td>x</td>\n",
       "    </tr>\n",
       "  </tbody>\n",
       "</table>\n",
       "</div>"
      ],
      "text/plain": [
       "  producto  precio  cantidad categoria\n",
       "0        A   100.0       5.0         x\n",
       "1        B   150.0      10.0         y\n",
       "2        C   200.0       3.0         x\n",
       "3        A   120.0       NaN         y\n",
       "4        C   180.0       8.0         x\n",
       "5        B     NaN       2.0         y\n",
       "6        A   130.0       6.0         x"
      ]
     },
     "execution_count": 7,
     "metadata": {},
     "output_type": "execute_result"
    }
   ],
   "source": [
    "# Simulación de datos si no hay archivo disponible\n",
    "\n",
    "df = pd.DataFrame({\n",
    "    'producto': ['A', 'B', 'C', 'A', 'C', 'B', 'A'],\n",
    "    'precio': [100, 150, 200, 120, 180, np.nan, 130],\n",
    "    'cantidad': [5, 10, 3, np.nan, 8, 2, 6],\n",
    "    'categoria': ['x', 'y', 'x', 'y', 'x', 'y', 'x']\n",
    "})\n",
    "df"
   ]
  },
  {
   "cell_type": "markdown",
   "metadata": {},
   "source": [
    "## 🧼 Limpieza de datos\n",
    "### 1. Ver valores nulos"
   ]
  },
  {
   "cell_type": "code",
   "execution_count": 6,
   "metadata": {},
   "outputs": [
    {
     "data": {
      "text/plain": [
       "producto     0\n",
       "precio       1\n",
       "cantidad     1\n",
       "categoria    0\n",
       "dtype: int64"
      ]
     },
     "execution_count": 6,
     "metadata": {},
     "output_type": "execute_result"
    }
   ],
   "source": [
    "df.isnull().sum()"
   ]
  },
  {
   "cell_type": "markdown",
   "metadata": {},
   "source": [
    "### 2. Rellenar valores nulos con `.fillna()`"
   ]
  },
  {
   "cell_type": "code",
   "execution_count": 8,
   "metadata": {},
   "outputs": [
    {
     "data": {
      "text/html": [
       "<div>\n",
       "<style scoped>\n",
       "    .dataframe tbody tr th:only-of-type {\n",
       "        vertical-align: middle;\n",
       "    }\n",
       "\n",
       "    .dataframe tbody tr th {\n",
       "        vertical-align: top;\n",
       "    }\n",
       "\n",
       "    .dataframe thead th {\n",
       "        text-align: right;\n",
       "    }\n",
       "</style>\n",
       "<table border=\"1\" class=\"dataframe\">\n",
       "  <thead>\n",
       "    <tr style=\"text-align: right;\">\n",
       "      <th></th>\n",
       "      <th>producto</th>\n",
       "      <th>precio</th>\n",
       "      <th>cantidad</th>\n",
       "      <th>categoria</th>\n",
       "    </tr>\n",
       "  </thead>\n",
       "  <tbody>\n",
       "    <tr>\n",
       "      <th>0</th>\n",
       "      <td>A</td>\n",
       "      <td>100.000000</td>\n",
       "      <td>5.0</td>\n",
       "      <td>x</td>\n",
       "    </tr>\n",
       "    <tr>\n",
       "      <th>1</th>\n",
       "      <td>B</td>\n",
       "      <td>150.000000</td>\n",
       "      <td>10.0</td>\n",
       "      <td>y</td>\n",
       "    </tr>\n",
       "    <tr>\n",
       "      <th>2</th>\n",
       "      <td>C</td>\n",
       "      <td>200.000000</td>\n",
       "      <td>3.0</td>\n",
       "      <td>x</td>\n",
       "    </tr>\n",
       "    <tr>\n",
       "      <th>3</th>\n",
       "      <td>A</td>\n",
       "      <td>120.000000</td>\n",
       "      <td>0.0</td>\n",
       "      <td>y</td>\n",
       "    </tr>\n",
       "    <tr>\n",
       "      <th>4</th>\n",
       "      <td>C</td>\n",
       "      <td>180.000000</td>\n",
       "      <td>8.0</td>\n",
       "      <td>x</td>\n",
       "    </tr>\n",
       "    <tr>\n",
       "      <th>5</th>\n",
       "      <td>B</td>\n",
       "      <td>146.666667</td>\n",
       "      <td>2.0</td>\n",
       "      <td>y</td>\n",
       "    </tr>\n",
       "    <tr>\n",
       "      <th>6</th>\n",
       "      <td>A</td>\n",
       "      <td>130.000000</td>\n",
       "      <td>6.0</td>\n",
       "      <td>x</td>\n",
       "    </tr>\n",
       "  </tbody>\n",
       "</table>\n",
       "</div>"
      ],
      "text/plain": [
       "  producto      precio  cantidad categoria\n",
       "0        A  100.000000       5.0         x\n",
       "1        B  150.000000      10.0         y\n",
       "2        C  200.000000       3.0         x\n",
       "3        A  120.000000       0.0         y\n",
       "4        C  180.000000       8.0         x\n",
       "5        B  146.666667       2.0         y\n",
       "6        A  130.000000       6.0         x"
      ]
     },
     "execution_count": 8,
     "metadata": {},
     "output_type": "execute_result"
    }
   ],
   "source": [
    "df['precio'] = df['precio'].fillna(df['precio'].mean())\n",
    "df['cantidad'] = df['cantidad'].fillna(0)\n",
    "df"
   ]
  },
  {
   "cell_type": "markdown",
   "metadata": {},
   "source": [
    "### 3. Crear columna de ingreso total usando `.apply()`"
   ]
  },
  {
   "cell_type": "code",
   "execution_count": 9,
   "metadata": {},
   "outputs": [
    {
     "data": {
      "text/html": [
       "<div>\n",
       "<style scoped>\n",
       "    .dataframe tbody tr th:only-of-type {\n",
       "        vertical-align: middle;\n",
       "    }\n",
       "\n",
       "    .dataframe tbody tr th {\n",
       "        vertical-align: top;\n",
       "    }\n",
       "\n",
       "    .dataframe thead th {\n",
       "        text-align: right;\n",
       "    }\n",
       "</style>\n",
       "<table border=\"1\" class=\"dataframe\">\n",
       "  <thead>\n",
       "    <tr style=\"text-align: right;\">\n",
       "      <th></th>\n",
       "      <th>producto</th>\n",
       "      <th>precio</th>\n",
       "      <th>cantidad</th>\n",
       "      <th>categoria</th>\n",
       "      <th>ingreso</th>\n",
       "    </tr>\n",
       "  </thead>\n",
       "  <tbody>\n",
       "    <tr>\n",
       "      <th>0</th>\n",
       "      <td>A</td>\n",
       "      <td>100.000000</td>\n",
       "      <td>5.0</td>\n",
       "      <td>x</td>\n",
       "      <td>500.000000</td>\n",
       "    </tr>\n",
       "    <tr>\n",
       "      <th>1</th>\n",
       "      <td>B</td>\n",
       "      <td>150.000000</td>\n",
       "      <td>10.0</td>\n",
       "      <td>y</td>\n",
       "      <td>1500.000000</td>\n",
       "    </tr>\n",
       "    <tr>\n",
       "      <th>2</th>\n",
       "      <td>C</td>\n",
       "      <td>200.000000</td>\n",
       "      <td>3.0</td>\n",
       "      <td>x</td>\n",
       "      <td>600.000000</td>\n",
       "    </tr>\n",
       "    <tr>\n",
       "      <th>3</th>\n",
       "      <td>A</td>\n",
       "      <td>120.000000</td>\n",
       "      <td>0.0</td>\n",
       "      <td>y</td>\n",
       "      <td>0.000000</td>\n",
       "    </tr>\n",
       "    <tr>\n",
       "      <th>4</th>\n",
       "      <td>C</td>\n",
       "      <td>180.000000</td>\n",
       "      <td>8.0</td>\n",
       "      <td>x</td>\n",
       "      <td>1440.000000</td>\n",
       "    </tr>\n",
       "    <tr>\n",
       "      <th>5</th>\n",
       "      <td>B</td>\n",
       "      <td>146.666667</td>\n",
       "      <td>2.0</td>\n",
       "      <td>y</td>\n",
       "      <td>293.333333</td>\n",
       "    </tr>\n",
       "    <tr>\n",
       "      <th>6</th>\n",
       "      <td>A</td>\n",
       "      <td>130.000000</td>\n",
       "      <td>6.0</td>\n",
       "      <td>x</td>\n",
       "      <td>780.000000</td>\n",
       "    </tr>\n",
       "  </tbody>\n",
       "</table>\n",
       "</div>"
      ],
      "text/plain": [
       "  producto      precio  cantidad categoria      ingreso\n",
       "0        A  100.000000       5.0         x   500.000000\n",
       "1        B  150.000000      10.0         y  1500.000000\n",
       "2        C  200.000000       3.0         x   600.000000\n",
       "3        A  120.000000       0.0         y     0.000000\n",
       "4        C  180.000000       8.0         x  1440.000000\n",
       "5        B  146.666667       2.0         y   293.333333\n",
       "6        A  130.000000       6.0         x   780.000000"
      ]
     },
     "execution_count": 9,
     "metadata": {},
     "output_type": "execute_result"
    }
   ],
   "source": [
    "df['ingreso'] = df.apply(lambda row: row['precio'] * row['cantidad'], axis=1)\n",
    "df"
   ]
  },
  {
   "cell_type": "markdown",
   "metadata": {},
   "source": [
    "### 4. Agrupaciones con `.groupby()`"
   ]
  },
  {
   "cell_type": "code",
   "execution_count": 10,
   "metadata": {},
   "outputs": [
    {
     "data": {
      "text/plain": [
       "categoria\n",
       "x    3320.000000\n",
       "y    1793.333333\n",
       "Name: ingreso, dtype: float64"
      ]
     },
     "execution_count": 10,
     "metadata": {},
     "output_type": "execute_result"
    }
   ],
   "source": [
    "df.groupby('categoria')['ingreso'].sum()"
   ]
  },
  {
   "cell_type": "markdown",
   "metadata": {},
   "source": [
    "### 5. Mapear valores con `.map()` (ejemplo de etiquetas)\n",
    "Vamos a renombrar las categorías."
   ]
  },
  {
   "cell_type": "code",
   "execution_count": 11,
   "metadata": {},
   "outputs": [
    {
     "data": {
      "text/html": [
       "<div>\n",
       "<style scoped>\n",
       "    .dataframe tbody tr th:only-of-type {\n",
       "        vertical-align: middle;\n",
       "    }\n",
       "\n",
       "    .dataframe tbody tr th {\n",
       "        vertical-align: top;\n",
       "    }\n",
       "\n",
       "    .dataframe thead th {\n",
       "        text-align: right;\n",
       "    }\n",
       "</style>\n",
       "<table border=\"1\" class=\"dataframe\">\n",
       "  <thead>\n",
       "    <tr style=\"text-align: right;\">\n",
       "      <th></th>\n",
       "      <th>producto</th>\n",
       "      <th>precio</th>\n",
       "      <th>cantidad</th>\n",
       "      <th>categoria</th>\n",
       "      <th>ingreso</th>\n",
       "    </tr>\n",
       "  </thead>\n",
       "  <tbody>\n",
       "    <tr>\n",
       "      <th>0</th>\n",
       "      <td>A</td>\n",
       "      <td>100.000000</td>\n",
       "      <td>5.0</td>\n",
       "      <td>básico</td>\n",
       "      <td>500.000000</td>\n",
       "    </tr>\n",
       "    <tr>\n",
       "      <th>1</th>\n",
       "      <td>B</td>\n",
       "      <td>150.000000</td>\n",
       "      <td>10.0</td>\n",
       "      <td>premium</td>\n",
       "      <td>1500.000000</td>\n",
       "    </tr>\n",
       "    <tr>\n",
       "      <th>2</th>\n",
       "      <td>C</td>\n",
       "      <td>200.000000</td>\n",
       "      <td>3.0</td>\n",
       "      <td>básico</td>\n",
       "      <td>600.000000</td>\n",
       "    </tr>\n",
       "    <tr>\n",
       "      <th>3</th>\n",
       "      <td>A</td>\n",
       "      <td>120.000000</td>\n",
       "      <td>0.0</td>\n",
       "      <td>premium</td>\n",
       "      <td>0.000000</td>\n",
       "    </tr>\n",
       "    <tr>\n",
       "      <th>4</th>\n",
       "      <td>C</td>\n",
       "      <td>180.000000</td>\n",
       "      <td>8.0</td>\n",
       "      <td>básico</td>\n",
       "      <td>1440.000000</td>\n",
       "    </tr>\n",
       "    <tr>\n",
       "      <th>5</th>\n",
       "      <td>B</td>\n",
       "      <td>146.666667</td>\n",
       "      <td>2.0</td>\n",
       "      <td>premium</td>\n",
       "      <td>293.333333</td>\n",
       "    </tr>\n",
       "    <tr>\n",
       "      <th>6</th>\n",
       "      <td>A</td>\n",
       "      <td>130.000000</td>\n",
       "      <td>6.0</td>\n",
       "      <td>básico</td>\n",
       "      <td>780.000000</td>\n",
       "    </tr>\n",
       "  </tbody>\n",
       "</table>\n",
       "</div>"
      ],
      "text/plain": [
       "  producto      precio  cantidad categoria      ingreso\n",
       "0        A  100.000000       5.0    básico   500.000000\n",
       "1        B  150.000000      10.0   premium  1500.000000\n",
       "2        C  200.000000       3.0    básico   600.000000\n",
       "3        A  120.000000       0.0   premium     0.000000\n",
       "4        C  180.000000       8.0    básico  1440.000000\n",
       "5        B  146.666667       2.0   premium   293.333333\n",
       "6        A  130.000000       6.0    básico   780.000000"
      ]
     },
     "execution_count": 11,
     "metadata": {},
     "output_type": "execute_result"
    }
   ],
   "source": [
    "df['categoria'] = df['categoria'].map({'x': 'básico', 'y': 'premium'})\n",
    "df"
   ]
  },
  {
   "cell_type": "markdown",
   "metadata": {},
   "source": [
    "### 6. Exportar DataFrame limpio\n",
    "Guarda el archivo como `ventas_limpio.csv`"
   ]
  },
  {
   "cell_type": "code",
   "execution_count": 18,
   "metadata": {},
   "outputs": [
    {
     "name": "stdout",
     "output_type": "stream",
     "text": [
      "✅ Archivo guardado correctamente en: IA/data/ventas_limpio.csv\n"
     ]
    }
   ],
   "source": [
    "import os\n",
    "\n",
    "# Subir dos niveles desde el notebook y luego entrar a 'data'\n",
    "ruta_data = os.path.join('..', '..', 'data')\n",
    "\n",
    "# Crear la carpeta si no existe\n",
    "os.makedirs(ruta_data, exist_ok=True)\n",
    "\n",
    "# Guardar el archivo limpio ahí\n",
    "df.to_csv(os.path.join(ruta_data, 'ventas_limpio.csv'), index=False)\n",
    "\n",
    "print(\"✅ Archivo guardado correctamente en: IA/data/ventas_limpio.csv\")\n"
   ]
  }
 ],
 "metadata": {
  "kernelspec": {
   "display_name": ".venv312",
   "language": "python",
   "name": "python3"
  },
  "language_info": {
   "codemirror_mode": {
    "name": "ipython",
    "version": 3
   },
   "file_extension": ".py",
   "mimetype": "text/x-python",
   "name": "python",
   "nbconvert_exporter": "python",
   "pygments_lexer": "ipython3",
   "version": "3.12.3"
  }
 },
 "nbformat": 4,
 "nbformat_minor": 5
}
