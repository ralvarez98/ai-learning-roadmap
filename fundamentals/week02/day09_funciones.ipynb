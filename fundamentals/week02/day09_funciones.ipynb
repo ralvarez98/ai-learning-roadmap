{
 "cells": [
  {
   "cell_type": "code",
   "execution_count": 3,
   "id": "d04b4e40",
   "metadata": {},
   "outputs": [
    {
     "name": "stdout",
     "output_type": "stream",
     "text": [
      "Hola, Romario!\n",
      "450.0\n",
      "480.0\n"
     ]
    }
   ],
   "source": [
    "# Día 09 – Introducción a Funciones en Python 🧠🔧\n",
    "\n",
    "# Hoy aprenderás a:\n",
    "# ✅ Crear funciones personalizadas\n",
    "# ✅ Usar parámetros y valores por defecto\n",
    "# ✅ Retornar resultados\n",
    "# ✅ Aplicar funciones para limpieza o análisis de datos\n",
    "\n",
    "# 📌 ¿Por qué es importante?\n",
    "# Las funciones permiten organizar tu código, reutilizarlo y hacerlo más legible.\n",
    "# Son esenciales para trabajar en proyectos reales, colaborar con otros y escalar soluciones.\n",
    "\n",
    "# Ejemplo simple:\n",
    "def saludar(nombre):\n",
    "    return f\"Hola, {nombre}!\"\n",
    "\n",
    "print(saludar(\"Romario\"))\n",
    "\n",
    "# Ejemplo con parámetro por defecto:\n",
    "def aplicar_descuento(precio, descuento=0.1):\n",
    "    return precio * (1 - descuento)\n",
    "\n",
    "print(aplicar_descuento(500))       # Usa 10% por defecto\n",
    "print(aplicar_descuento(600, 0.2))  # Usa 20%\n"
   ]
  },
  {
   "cell_type": "markdown",
   "id": "43ac0a33",
   "metadata": {},
   "source": [
    "🛠️ Mini práctica: Análisis de ventas usando funciones\n",
    "Imagina que tienes una tabla de ventas de productos. Vamos a construir 3 funciones clave para:\n",
    "\n",
    "1.-Calcular ingresos\n",
    "2.-Aplicar descuentos especiales\n",
    "3.-Mostrar resumen limpio por producto"
   ]
  },
  {
   "cell_type": "code",
   "execution_count": 17,
   "id": "51625217",
   "metadata": {},
   "outputs": [
    {
     "name": "stdout",
     "output_type": "stream",
     "text": [
      "Sensor O2D: vendiste 4 unidades. Ingreso bruto: $10000, con descuento: $2000.00\n",
      "Sensor O3D: vendiste 2 unidades. Ingreso bruto: $8400, con descuento: $1680.00\n",
      "IO-Link Master: vendiste 3 unidades. Ingreso bruto: $9300, con descuento: $930.00\n"
     ]
    }
   ],
   "source": [
    "# Dataset simulado de ventas\n",
    "ventas = [\n",
    "    {\"producto\": \"Sensor O2D\", \"precio\": 2500, \"cantidad\": 4},\n",
    "    {\"producto\": \"Sensor O3D\", \"precio\": 4200, \"cantidad\": 2},\n",
    "    {\"producto\": \"IO-Link Master\", \"precio\": 3100, \"cantidad\": 3}\n",
    "]\n",
    "\n",
    "# 1. Función para calcular ingreso\n",
    "def calcular_ingreso(precio, cantidad):\n",
    "    return precio * cantidad\n",
    "\n",
    "# 2. Función para aplicar descuento\n",
    "def aplicar_descuento(ingreso, porcentaje=0.1):\n",
    "    return ingreso * (porcentaje)\n",
    "\n",
    "# 3. Función resumen por producto\n",
    "def resumen_producto(producto, precio, cantidad, descuento=0.1):\n",
    "    ingreso = calcular_ingreso(precio, cantidad)\n",
    "    ingreso_descuento = aplicar_descuento(ingreso, descuento)\n",
    "    return f\"{producto}: vendiste {cantidad} unidades. Ingreso bruto: ${ingreso}, con descuento: ${ingreso_descuento:.2f}\"\n",
    "\n",
    "# Ejecutar para cada venta\n",
    "for venta in ventas:\n",
    "    resumen = resumen_producto(\n",
    "        venta[\"producto\"],\n",
    "        venta[\"precio\"],\n",
    "        venta[\"cantidad\"],\n",
    "        descuento=0.1 if venta[\"producto\"] == \"IO-Link Master\" else 0.2\n",
    "    )\n",
    "    print(resumen)"
   ]
  },
  {
   "cell_type": "code",
   "execution_count": 25,
   "id": "6dab56c7",
   "metadata": {},
   "outputs": [
    {
     "name": "stdout",
     "output_type": "stream",
     "text": [
      "         producto  precio_unitario  cantidad_vendida  ingreso_bruto  \\\n",
      "0      Sensor O2D             2500                 4          10000   \n",
      "1      Sensor O3D             4200                 2           8400   \n",
      "2  IO-Link Master             3100                 3           9300   \n",
      "\n",
      "  descuento_aplicado  ingreso_con_descuento  \n",
      "0                10%                 9000.0  \n",
      "1                10%                 7560.0  \n",
      "2                15%                 7905.0  \n"
     ]
    }
   ],
   "source": [
    "import pandas as pd\n",
    "\n",
    "# Dataset simulado de ventas\n",
    "ventas = [\n",
    "    {\"producto\": \"Sensor O2D\", \"precio\": 2500, \"cantidad\": 4},\n",
    "    {\"producto\": \"Sensor O3D\", \"precio\": 4200, \"cantidad\": 2},\n",
    "    {\"producto\": \"IO-Link Master\", \"precio\": 3100, \"cantidad\": 3}\n",
    "]\n",
    "\n",
    "# Función para calcular ingreso bruto\n",
    "def calcular_ingreso(precio, cantidad):\n",
    "    return precio * cantidad\n",
    "\n",
    "# Función para aplicar descuento\n",
    "def aplicar_descuento(ingreso, porcentaje=0.1):\n",
    "    return ingreso * (1 - porcentaje)\n",
    "\n",
    "# Función para generar resumen en formato diccionario\n",
    "def resumen_producto(producto, precio, cantidad, descuento=0.1):\n",
    "    ingreso_bruto = calcular_ingreso(precio, cantidad)\n",
    "    ingreso_final = aplicar_descuento(ingreso_bruto, descuento)\n",
    "    return {\n",
    "        \"producto\": producto,\n",
    "        \"precio_unitario\": precio,\n",
    "        \"cantidad_vendida\": cantidad,\n",
    "        \"ingreso_bruto\": ingreso_bruto,\n",
    "        \"descuento_aplicado\": f\"{descuento*100:.0f}%\",\n",
    "        \"ingreso_con_descuento\": round(ingreso_final, 2)\n",
    "    }\n",
    "\n",
    "# Lista para guardar los resultados\n",
    "resumen_ventas = []\n",
    "\n",
    "# Procesar cada venta\n",
    "for venta in ventas:\n",
    "    descuento = 0.15 if venta[\"producto\"] == \"IO-Link Master\" else 0.1\n",
    "    resumen = resumen_producto(venta[\"producto\"], venta[\"precio\"], venta[\"cantidad\"], descuento)\n",
    "    resumen_ventas.append(resumen)\n",
    "\n",
    "# Crear DataFrame y mostrar\n",
    "df_resumen = pd.DataFrame(resumen_ventas)\n",
    "print(df_resumen)\n",
    "\n",
    "# Exportar a CSV en la carpeta 'data' desde week02\n",
    "df_resumen.to_csv(\"../../data/resumen_ventas_dia09.csv\", index=False)"
   ]
  },
  {
   "cell_type": "code",
   "execution_count": 31,
   "id": "fd222924",
   "metadata": {},
   "outputs": [
    {
     "name": "stdout",
     "output_type": "stream",
     "text": [
      "        producto  precio_unitario  cantidad_vendida  ingreso_bruto  \\\n",
      "0     Sensor O2D             2500                 4          10000   \n",
      "1     Sensor O3D             4200                 2           8400   \n",
      "2  Sensor master             3100                 3           9300   \n",
      "\n",
      "  descuento_aplicado  ingreso_neto  \n",
      "0                10%        9000.0  \n",
      "1                10%        7560.0  \n",
      "2                15%        7905.0  \n"
     ]
    }
   ],
   "source": [
    "import pandas as pd\n",
    "\n",
    "# Lista de ventas\n",
    "ventas = [\n",
    "    {\"producto\": \"Sensor O2D\", \"precio\": 2500, \"cantidad\": 4},\n",
    "    {\"producto\": \"Sensor O3D\", \"precio\": 4200, \"cantidad\": 2},\n",
    "    {\"producto\": \"Sensor defectuoso\", \"precio\": 999, \"cantidad\": 1},\n",
    "    {\"producto\": \"Sensor nuevo\", \"precio\": -1500, \"cantidad\": 5},\n",
    "    {\"producto\": \"Sensor master\", \"precio\": 3100, \"cantidad\": 3}\n",
    "]\n",
    "\n",
    "# Función principal\n",
    "def procesar_venta(producto, precio, cantidad):\n",
    "\n",
    "    # Validación interna\n",
    "    def validar_datos():\n",
    "        if precio <= 0 or cantidad <= 0:\n",
    "            return False\n",
    "        if \"defectuoso\" in producto.lower():\n",
    "            return False\n",
    "        return True\n",
    "\n",
    "    if not validar_datos():\n",
    "        return None\n",
    "\n",
    "    # Lógica de descuento\n",
    "    descuento = 0.15 if \"master\" in producto.lower() else 0.10\n",
    "\n",
    "    ingreso_bruto = precio * cantidad\n",
    "    ingreso_descuento = ingreso_bruto * (1 - descuento)\n",
    "\n",
    "    return {\n",
    "        \"producto\": producto,\n",
    "        \"precio_unitario\": precio,\n",
    "        \"cantidad_vendida\": cantidad,\n",
    "        \"ingreso_bruto\": ingreso_bruto,\n",
    "        \"descuento_aplicado\": f\"{int(descuento * 100)}%\",\n",
    "        \"ingreso_neto\": round(ingreso_descuento, 2)\n",
    "    }\n",
    "\n",
    "# Ejecutar y guardar\n",
    "resumen = []\n",
    "for venta in ventas:\n",
    "    resultado = procesar_venta(venta[\"producto\"], venta[\"precio\"], venta[\"cantidad\"])\n",
    "    if resultado:\n",
    "        resumen.append(resultado)\n",
    "\n",
    "df_resumen = pd.DataFrame(resumen)\n",
    "print(df_resumen)\n",
    "\n",
    "# Guardar en carpeta ../data\n",
    "df_resumen.to_csv(\"../../data/resumen_validado_dia09.csv\", index=False)\n"
   ]
  }
 ],
 "metadata": {
  "kernelspec": {
   "display_name": ".venv312",
   "language": "python",
   "name": "python3"
  },
  "language_info": {
   "codemirror_mode": {
    "name": "ipython",
    "version": 3
   },
   "file_extension": ".py",
   "mimetype": "text/x-python",
   "name": "python",
   "nbconvert_exporter": "python",
   "pygments_lexer": "ipython3",
   "version": "3.12.3"
  }
 },
 "nbformat": 4,
 "nbformat_minor": 5
}
